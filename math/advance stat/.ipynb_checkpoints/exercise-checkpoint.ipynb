{
 "cells": [
  {
   "cell_type": "code",
   "execution_count": 246,
   "id": "loved-spokesman",
   "metadata": {},
   "outputs": [
    {
     "data": {
      "text/plain": [
       "('beers.csv', <http.client.HTTPMessage at 0x1a0dcc7f7f0>)"
      ]
     },
     "execution_count": 246,
     "metadata": {},
     "output_type": "execute_result"
    }
   ],
   "source": [
    "import pandas as pd\n",
    "import numpy as np\n",
    "from urllib.request import urlretrieve\n",
    "from matplotlib import pyplot as plt\n",
    "%matplotlib inline\n",
    "from matplotlib import rcParams\n",
    "from matplotlib import cm\n",
    "URL = 'http://go.gwu.edu/engcomp2data1'\n",
    "urlretrieve(URL, 'beers.csv')"
   ]
  },
  {
   "cell_type": "code",
   "execution_count": 50,
   "id": "careful-trailer",
   "metadata": {},
   "outputs": [],
   "source": [
    "beers = pd.read_csv(\"beers.csv\")"
   ]
  },
  {
   "cell_type": "code",
   "execution_count": 51,
   "id": "genetic-track",
   "metadata": {},
   "outputs": [
    {
     "data": {
      "text/html": [
       "<div>\n",
       "<style scoped>\n",
       "    .dataframe tbody tr th:only-of-type {\n",
       "        vertical-align: middle;\n",
       "    }\n",
       "\n",
       "    .dataframe tbody tr th {\n",
       "        vertical-align: top;\n",
       "    }\n",
       "\n",
       "    .dataframe thead th {\n",
       "        text-align: right;\n",
       "    }\n",
       "</style>\n",
       "<table border=\"1\" class=\"dataframe\">\n",
       "  <thead>\n",
       "    <tr style=\"text-align: right;\">\n",
       "      <th></th>\n",
       "      <th>Unnamed: 0</th>\n",
       "      <th>abv</th>\n",
       "      <th>ibu</th>\n",
       "      <th>id</th>\n",
       "      <th>name</th>\n",
       "      <th>style</th>\n",
       "      <th>brewery_id</th>\n",
       "      <th>ounces</th>\n",
       "    </tr>\n",
       "  </thead>\n",
       "  <tbody>\n",
       "    <tr>\n",
       "      <th>0</th>\n",
       "      <td>0</td>\n",
       "      <td>0.050</td>\n",
       "      <td>NaN</td>\n",
       "      <td>1436</td>\n",
       "      <td>Pub Beer</td>\n",
       "      <td>American Pale Lager</td>\n",
       "      <td>408</td>\n",
       "      <td>12.0</td>\n",
       "    </tr>\n",
       "    <tr>\n",
       "      <th>1</th>\n",
       "      <td>1</td>\n",
       "      <td>0.066</td>\n",
       "      <td>NaN</td>\n",
       "      <td>2265</td>\n",
       "      <td>Devil's Cup</td>\n",
       "      <td>American Pale Ale (APA)</td>\n",
       "      <td>177</td>\n",
       "      <td>12.0</td>\n",
       "    </tr>\n",
       "    <tr>\n",
       "      <th>2</th>\n",
       "      <td>2</td>\n",
       "      <td>0.071</td>\n",
       "      <td>NaN</td>\n",
       "      <td>2264</td>\n",
       "      <td>Rise of the Phoenix</td>\n",
       "      <td>American IPA</td>\n",
       "      <td>177</td>\n",
       "      <td>12.0</td>\n",
       "    </tr>\n",
       "    <tr>\n",
       "      <th>3</th>\n",
       "      <td>3</td>\n",
       "      <td>0.090</td>\n",
       "      <td>NaN</td>\n",
       "      <td>2263</td>\n",
       "      <td>Sinister</td>\n",
       "      <td>American Double / Imperial IPA</td>\n",
       "      <td>177</td>\n",
       "      <td>12.0</td>\n",
       "    </tr>\n",
       "    <tr>\n",
       "      <th>4</th>\n",
       "      <td>4</td>\n",
       "      <td>0.075</td>\n",
       "      <td>NaN</td>\n",
       "      <td>2262</td>\n",
       "      <td>Sex and Candy</td>\n",
       "      <td>American IPA</td>\n",
       "      <td>177</td>\n",
       "      <td>12.0</td>\n",
       "    </tr>\n",
       "    <tr>\n",
       "      <th>...</th>\n",
       "      <td>...</td>\n",
       "      <td>...</td>\n",
       "      <td>...</td>\n",
       "      <td>...</td>\n",
       "      <td>...</td>\n",
       "      <td>...</td>\n",
       "      <td>...</td>\n",
       "      <td>...</td>\n",
       "    </tr>\n",
       "    <tr>\n",
       "      <th>2405</th>\n",
       "      <td>2405</td>\n",
       "      <td>0.067</td>\n",
       "      <td>45.0</td>\n",
       "      <td>928</td>\n",
       "      <td>Belgorado</td>\n",
       "      <td>Belgian IPA</td>\n",
       "      <td>424</td>\n",
       "      <td>12.0</td>\n",
       "    </tr>\n",
       "    <tr>\n",
       "      <th>2406</th>\n",
       "      <td>2406</td>\n",
       "      <td>0.052</td>\n",
       "      <td>NaN</td>\n",
       "      <td>807</td>\n",
       "      <td>Rail Yard Ale</td>\n",
       "      <td>American Amber / Red Ale</td>\n",
       "      <td>424</td>\n",
       "      <td>12.0</td>\n",
       "    </tr>\n",
       "    <tr>\n",
       "      <th>2407</th>\n",
       "      <td>2407</td>\n",
       "      <td>0.055</td>\n",
       "      <td>NaN</td>\n",
       "      <td>620</td>\n",
       "      <td>B3K Black Lager</td>\n",
       "      <td>Schwarzbier</td>\n",
       "      <td>424</td>\n",
       "      <td>12.0</td>\n",
       "    </tr>\n",
       "    <tr>\n",
       "      <th>2408</th>\n",
       "      <td>2408</td>\n",
       "      <td>0.055</td>\n",
       "      <td>40.0</td>\n",
       "      <td>145</td>\n",
       "      <td>Silverback Pale Ale</td>\n",
       "      <td>American Pale Ale (APA)</td>\n",
       "      <td>424</td>\n",
       "      <td>12.0</td>\n",
       "    </tr>\n",
       "    <tr>\n",
       "      <th>2409</th>\n",
       "      <td>2409</td>\n",
       "      <td>0.052</td>\n",
       "      <td>NaN</td>\n",
       "      <td>84</td>\n",
       "      <td>Rail Yard Ale (2009)</td>\n",
       "      <td>American Amber / Red Ale</td>\n",
       "      <td>424</td>\n",
       "      <td>12.0</td>\n",
       "    </tr>\n",
       "  </tbody>\n",
       "</table>\n",
       "<p>2410 rows × 8 columns</p>\n",
       "</div>"
      ],
      "text/plain": [
       "      Unnamed: 0    abv   ibu    id                  name  \\\n",
       "0              0  0.050   NaN  1436              Pub Beer   \n",
       "1              1  0.066   NaN  2265           Devil's Cup   \n",
       "2              2  0.071   NaN  2264   Rise of the Phoenix   \n",
       "3              3  0.090   NaN  2263              Sinister   \n",
       "4              4  0.075   NaN  2262         Sex and Candy   \n",
       "...          ...    ...   ...   ...                   ...   \n",
       "2405        2405  0.067  45.0   928             Belgorado   \n",
       "2406        2406  0.052   NaN   807         Rail Yard Ale   \n",
       "2407        2407  0.055   NaN   620       B3K Black Lager   \n",
       "2408        2408  0.055  40.0   145   Silverback Pale Ale   \n",
       "2409        2409  0.052   NaN    84  Rail Yard Ale (2009)   \n",
       "\n",
       "                               style  brewery_id  ounces  \n",
       "0                American Pale Lager         408    12.0  \n",
       "1            American Pale Ale (APA)         177    12.0  \n",
       "2                       American IPA         177    12.0  \n",
       "3     American Double / Imperial IPA         177    12.0  \n",
       "4                       American IPA         177    12.0  \n",
       "...                              ...         ...     ...  \n",
       "2405                     Belgian IPA         424    12.0  \n",
       "2406        American Amber / Red Ale         424    12.0  \n",
       "2407                     Schwarzbier         424    12.0  \n",
       "2408         American Pale Ale (APA)         424    12.0  \n",
       "2409        American Amber / Red Ale         424    12.0  \n",
       "\n",
       "[2410 rows x 8 columns]"
      ]
     },
     "execution_count": 51,
     "metadata": {},
     "output_type": "execute_result"
    }
   ],
   "source": [
    "beers"
   ]
  },
  {
   "cell_type": "code",
   "execution_count": 197,
   "id": "congressional-partition",
   "metadata": {},
   "outputs": [],
   "source": [
    "def cleaned_abv(beers):\n",
    "    abv_series = beers['abv']\n",
    "    abv_clean = abv_series.dropna()\n",
    "    abv = abv_clean.values\n",
    "    print(len(abv))\n",
    "    return(abv)\n",
    "    \n",
    "\n",
    "   \n",
    "          \n",
    "    \n",
    "    "
   ]
  },
  {
   "cell_type": "code",
   "execution_count": 198,
   "id": "naughty-treat",
   "metadata": {},
   "outputs": [
    {
     "name": "stdout",
     "output_type": "stream",
     "text": [
      "2348\n"
     ]
    },
    {
     "data": {
      "text/plain": [
       "array([0.05 , 0.066, 0.071, ..., 0.055, 0.055, 0.052])"
      ]
     },
     "execution_count": 198,
     "metadata": {},
     "output_type": "execute_result"
    }
   ],
   "source": [
    "cleaned_abv(beers)\n"
   ]
  },
  {
   "cell_type": "code",
   "execution_count": 206,
   "id": "floating-chapter",
   "metadata": {},
   "outputs": [],
   "source": [
    "def cleaning_ibu(beers):\n",
    "    ibu_series = beers['ibu']\n",
    "    ibu_clean = ibu_series.dropna()\n",
    "    ibu = ibu_clean.values\n",
    "    print(len(ibu))\n",
    "    return(ibu)\n",
    "   "
   ]
  },
  {
   "cell_type": "code",
   "execution_count": 207,
   "id": "enabling-ontario",
   "metadata": {},
   "outputs": [
    {
     "name": "stdout",
     "output_type": "stream",
     "text": [
      "1405\n"
     ]
    },
    {
     "data": {
      "text/plain": [
       "array([60., 92., 45., ..., 50., 45., 40.])"
      ]
     },
     "execution_count": 207,
     "metadata": {},
     "output_type": "execute_result"
    }
   ],
   "source": [
    "cleaning_ibu(beers)"
   ]
  },
  {
   "cell_type": "code",
   "execution_count": 149,
   "id": "western-animal",
   "metadata": {},
   "outputs": [],
   "source": [
    "def hist_graph_abv(*abv):\n",
    "    plt.figure(figsize=(6,4))\n",
    "    plt.hist(abv, bins=10, color='#3758db', histtype='bar', edgecolor='black') \n",
    "    plt.title('Alcohol by Volume (abv) \\n')\n",
    "    plt.xlabel('abv')\n",
    "    plt.ylabel('Frequency')\n",
    "    return(plt.show())\n",
    "\n",
    "  \n",
    "\n",
    "    \n"
   ]
  },
  {
   "cell_type": "code",
   "execution_count": null,
   "id": "painted-baseline",
   "metadata": {},
   "outputs": [],
   "source": []
  },
  {
   "cell_type": "code",
   "execution_count": 147,
   "id": "transparent-amplifier",
   "metadata": {},
   "outputs": [],
   "source": [
    "def hist_graph_ibu(*ibu):\n",
    "    plt.figure(figsize=(6,4))\n",
    "    plt.hist(ibu, bins=10, color='#3758db', histtype='bar', edgecolor='black') \n",
    "    plt.title('Alcohol by Volume () \\n')\n",
    "    plt.xlabel('ibu')\n",
    "    plt.ylabel('Frequency')\n",
    "    return(plt.show())\n"
   ]
  },
  {
   "cell_type": "code",
   "execution_count": null,
   "id": "characteristic-tennessee",
   "metadata": {},
   "outputs": [],
   "source": []
  },
  {
   "cell_type": "code",
   "execution_count": null,
   "id": "valuable-mirror",
   "metadata": {},
   "outputs": [],
   "source": []
  },
  {
   "cell_type": "code",
   "execution_count": null,
   "id": "forward-stewart",
   "metadata": {},
   "outputs": [],
   "source": [
    "\n"
   ]
  },
  {
   "cell_type": "code",
   "execution_count": null,
   "id": "monthly-reader",
   "metadata": {},
   "outputs": [],
   "source": []
  },
  {
   "cell_type": "code",
   "execution_count": null,
   "id": "spread-actress",
   "metadata": {},
   "outputs": [],
   "source": []
  },
  {
   "cell_type": "code",
   "execution_count": 146,
   "id": "descending-newport",
   "metadata": {},
   "outputs": [],
   "source": [
    "def calculation(*column):\n",
    "    \n",
    "    print('std =' ,np.std(column))\n",
    "    print('variance=',np.var(column,ddof=1))\n",
    "    print('mean =',np.mean(column))\n",
    "    print('median=',np.median(column))\n",
    "    return\n",
    "    \n"
   ]
  },
  {
   "cell_type": "code",
   "execution_count": 137,
   "id": "cardiac-outside",
   "metadata": {},
   "outputs": [],
   "source": [
    "def box_plt(*abv):\n",
    "    plt.boxplot(abv, labels=['Alcohol by volume'])\n",
    "    return\n"
   ]
  },
  {
   "cell_type": "code",
   "execution_count": 136,
   "id": "resistant-yorkshire",
   "metadata": {},
   "outputs": [],
   "source": [
    "def box_plot(*ibu):\n",
    "    plt.boxplot(ibu, labels=['International bitterness unit'])\n",
    "    return\n"
   ]
  },
  {
   "cell_type": "code",
   "execution_count": 140,
   "id": "departmental-particle",
   "metadata": {},
   "outputs": [],
   "source": [
    "def quartile_percentage_ibu(*ibu):\n",
    "    quartiles_ibu = np.percentile(ibu, q=[25, 50, 75])\n",
    "    print('The first quartile for ibu is {}'.format(quartiles_ibu[0]))\n",
    "    print('The second quartile for ibu is {}'.format(quartiles_ibu[1]))\n",
    "    print('The third quartile for ibu is {}'.format(quartiles_ibu[2]))\n",
    "    return\n",
    "    \n"
   ]
  },
  {
   "cell_type": "code",
   "execution_count": 139,
   "id": "funny-constitutional",
   "metadata": {},
   "outputs": [],
   "source": [
    "def quartile_percentage_abv(*abv):\n",
    "    \n",
    "    quartiles_abv = np.percentile(abv, q=[25, 50, 75])\n",
    "    print('The first quartile for abv is {}'.format(quartiles_abv[0]))\n",
    "    print('The second quartile for abv is {}'.format(quartiles_abv[1]))\n",
    "    print('The third quartile for abv is {}'.format(quartiles_abv[2]))\n",
    "    return\n"
   ]
  },
  {
   "cell_type": "code",
   "execution_count": null,
   "id": "economic-topic",
   "metadata": {},
   "outputs": [],
   "source": [
    "\n"
   ]
  },
  {
   "cell_type": "markdown",
   "id": "premier-timeline",
   "metadata": {},
   "source": [
    "Exercise:\n",
    "Calculate the end-points of the top and bottom whiskers for both the abv and ibu variables, and compare the results with the whisker end-points you see in the plot\n",
    "    \n",
    "    \n",
    "    "
   ]
  },
  {
   "cell_type": "code",
   "execution_count": 165,
   "id": "exempt-bolivia",
   "metadata": {},
   "outputs": [],
   "source": [
    "def bottom_wisker(*column):\n",
    "    B = plt.boxplot(column)\n",
    "    \n",
    "    [item.get_ydata() for item in B['whiskers']]\n",
    "    return\n",
    "\n",
    "#THE SECOUND VALUE IS BOTTOM WISKER"
   ]
  },
  {
   "cell_type": "code",
   "execution_count": 178,
   "id": "satellite-rally",
   "metadata": {},
   "outputs": [],
   "source": [
    "def vis_cat_data(beers):\n",
    "    style_series = beers['style']\n",
    "    style_counts = style_series.value_counts()\n",
    "    #print(style_counts.head(10))\n",
    "    #print(len(style_counts))\n",
    "    style_counts.head(20).plot.barh(figsize=(10,8), color='#008367', edgecolor='black');\n",
    "    return\n"
   ]
  },
  {
   "cell_type": "code",
   "execution_count": null,
   "id": "labeled-newark",
   "metadata": {},
   "outputs": [],
   "source": [
    "beers_clean = beers.dropna()\n",
    "abv = beers_clean['abv'].values\n",
    "ibu = beers_clean['ibu'].values\n",
    "print(len(abv))\n",
    "print(len(ibu))"
   ]
  },
  {
   "cell_type": "code",
   "execution_count": 226,
   "id": "cultural-methodology",
   "metadata": {},
   "outputs": [],
   "source": [
    "\n",
    "def scatter_plot():\n",
    "    plt.figure(figsize=(8,8))\n",
    "    plt.scatter(abv, ibu, color='#3498db',alpha =0.5) \n",
    "    plt.title('Scatter plot of alcohol-by-volume vs. IBU \\n')\n",
    "    plt.xlabel('abv')\n",
    "    plt.ylabel('IBU')\n",
    "    return\n",
    "    "
   ]
  },
  {
   "cell_type": "code",
   "execution_count": 234,
   "id": "fantastic-politics",
   "metadata": {},
   "outputs": [],
   "source": [
    "#beers"
   ]
  },
  {
   "cell_type": "code",
   "execution_count": 260,
   "id": "acquired-alberta",
   "metadata": {},
   "outputs": [
    {
     "name": "stdout",
     "output_type": "stream",
     "text": [
      "90\n",
      "American IPA                      301\n",
      "American Pale Ale (APA)           153\n",
      "American Amber / Red Ale           77\n",
      "American Double / Imperial IPA     75\n",
      "American Pale Wheat Ale            61\n",
      "American Blonde Ale                61\n",
      "American Porter                    39\n",
      "American Brown Ale                 38\n",
      "Fruit / Vegetable Beer             30\n",
      "Kölsch                             27\n",
      "Name: style, dtype: int64\n"
     ]
    }
   ],
   "source": [
    "\n",
    "beers_styles = beers_clean.drop(['Unnamed: 0','name','brewery_id','ounces','id'], axis=1)\n",
    "style_counts = beers_styles['style'].value_counts()\n",
    "print(len(style_counts))\n",
    "print(style_counts.head(10))\n",
    "\n",
    "\n"
   ]
  },
  {
   "cell_type": "code",
   "execution_count": 261,
   "id": "arbitrary-recommendation",
   "metadata": {},
   "outputs": [
    {
     "name": "stdout",
     "output_type": "stream",
     "text": [
      "Abbey Single Ale               2\n",
      "Altbier                        8\n",
      "American Adjunct Lager        11\n",
      "American Amber / Red Ale      77\n",
      "American Amber / Red Lager    16\n",
      "American Barleywine            2\n",
      "American Black Ale            20\n",
      "American Blonde Ale           61\n",
      "American Brown Ale            38\n",
      "American Dark Wheat Ale        5\n",
      "Name: style, dtype: int64\n"
     ]
    }
   ],
   "source": [
    "style_means = beers_styles.groupby('style').mean()\n",
    "style_counts = style_counts.sort_index()\n",
    "print(style_counts.head(10))\n",
    "    \n",
    "    #print(style_means)\n",
    "\n"
   ]
  },
  {
   "cell_type": "code",
   "execution_count": 262,
   "id": "religious-handy",
   "metadata": {},
   "outputs": [],
   "source": [
    "def bubble_plot():\n",
    "    colors = cm.viridis(style_counts.values)\n",
    "    style_means.plot.scatter(figsize=(10,10), \n",
    "                         x='abv', y='ibu', s=style_counts*20, color=colors,\n",
    "                         title='Beer ABV vs. IBU mean values by style\\n',\n",
    "                         alpha=0.3)\n",
    "    return\n"
   ]
  },
  {
   "cell_type": "code",
   "execution_count": null,
   "id": "accessible-memorial",
   "metadata": {},
   "outputs": [],
   "source": []
  },
  {
   "cell_type": "code",
   "execution_count": null,
   "id": "broadband-injury",
   "metadata": {},
   "outputs": [],
   "source": []
  }
 ],
 "metadata": {
  "kernelspec": {
   "display_name": "Python 3",
   "language": "python",
   "name": "python3"
  },
  "language_info": {
   "codemirror_mode": {
    "name": "ipython",
    "version": 3
   },
   "file_extension": ".py",
   "mimetype": "text/x-python",
   "name": "python",
   "nbconvert_exporter": "python",
   "pygments_lexer": "ipython3",
   "version": "3.8.8"
  }
 },
 "nbformat": 4,
 "nbformat_minor": 5
}
