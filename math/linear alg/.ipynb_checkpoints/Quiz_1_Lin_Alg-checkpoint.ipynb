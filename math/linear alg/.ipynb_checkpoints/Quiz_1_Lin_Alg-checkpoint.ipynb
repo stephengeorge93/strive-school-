{
 "cells": [
  {
   "cell_type": "markdown",
   "metadata": {},
   "source": [
    "## Linear Algebra Quiz #1\n",
    "\n",
    "![title](./img/1_0.jpeg)\n",
    "\n",
    "We strongly suggest working with numpy :)"
   ]
  },
  {
   "cell_type": "code",
   "execution_count": 1,
   "metadata": {},
   "outputs": [],
   "source": [
    "import numpy as np"
   ]
  },
  {
   "cell_type": "markdown",
   "metadata": {},
   "source": [
    "![title](./img/1_1.png)"
   ]
  },
  {
   "cell_type": "code",
   "execution_count": 48,
   "metadata": {},
   "outputs": [
    {
     "data": {
      "text/plain": [
       "3.7416573867739413"
      ]
     },
     "execution_count": 48,
     "metadata": {},
     "output_type": "execute_result"
    }
   ],
   "source": [
    "# type a function that given a 3_dimensional vector it is able to calculate its magnitude\n",
    "def three_dimen_vector(a,b,c):\n",
    "    x =[a,b,c]\n",
    "    return np.linalg.norm(x)\n",
    "\n",
    "three_dimen_vector(1,2,3)"
   ]
  },
  {
   "cell_type": "code",
   "execution_count": 53,
   "metadata": {},
   "outputs": [
    {
     "name": "stdout",
     "output_type": "stream",
     "text": [
      "2.23606797749979\n",
      "3.7416573867739413\n",
      "5.477225575051661\n",
      "7.416198487095663\n"
     ]
    }
   ],
   "source": [
    "def magnitude_complete(*args):\n",
    "    x =[]\n",
    "    for num in args:\n",
    "        x.append(args)\n",
    "        return(np.linalg.norm(x))\n",
    "    \n",
    "   \n",
    "\n",
    "\n",
    "    \n",
    "\n",
    "\n",
    "\n",
    "print(magnitude_complete([1,2]))\n",
    "\n",
    "print(magnitude_complete([1,2,3]))\n",
    "      \n",
    "\n",
    "print(magnitude_complete([1,2,3,4]))\n",
    "\n",
    "print(magnitude_complete([1,2,3,4,5]))\n",
    "\n"
   ]
  },
  {
   "cell_type": "code",
   "execution_count": 56,
   "metadata": {},
   "outputs": [
    {
     "data": {
      "text/plain": [
       "[True, True, True, True, True]"
      ]
     },
     "execution_count": 56,
     "metadata": {},
     "output_type": "execute_result"
    }
   ],
   "source": [
    "[magnitude_complete(1) == 1.0,\n",
    "magnitude_complete(1,2) >= 2.236,\n",
    "magnitude_complete(1,2,3) >= 3.741,\n",
    "magnitude_complete(1,2,3,4,5) >= 5.477,\n",
    "magnitude_complete(1,2,3,4,5) >= 7.416,]"
   ]
  },
  {
   "cell_type": "markdown",
   "metadata": {},
   "source": [
    "![title](./img/1_2.png)"
   ]
  },
  {
   "cell_type": "code",
   "execution_count": 57,
   "metadata": {},
   "outputs": [],
   "source": [
    "def magnitude_vectors(a, b):\n",
    "    a_size =a.size\n",
    "    b_size =b.size\n",
    "    try:\n",
    "        a_size == b_size\n",
    "        a_b_sum = a + b\n",
    "        return np.linalg.norm(a_b_sum)\n",
    "    \n",
    "    except:\n",
    "        print(f'Vectors are different dimensions {a_size} and {b_size}')\n",
    "    \n",
    "    \n",
    "    \n",
    "    \n"
   ]
  },
  {
   "cell_type": "code",
   "execution_count": 60,
   "metadata": {},
   "outputs": [
    {
     "data": {
      "text/plain": [
       "4.47213595499958"
      ]
     },
     "execution_count": 60,
     "metadata": {},
     "output_type": "execute_result"
    }
   ],
   "source": [
    "a=np.array([5,4])\n",
    "b=np.array([-1,-2])\n",
    "magnitude_vectors(a, b)"
   ]
  },
  {
   "cell_type": "markdown",
   "metadata": {},
   "source": [
    "![title](./img/1_3.png)"
   ]
  },
  {
   "cell_type": "code",
   "execution_count": 65,
   "metadata": {},
   "outputs": [],
   "source": [
    "def direction_vectors(a, b):\n",
    "    #checks that size is equal\n",
    "    a_size =a.size\n",
    "    b_size =b.size\n",
    "    try:\n",
    "        a_size ==b_size\n",
    "        return(a+b)\n",
    "    except:\n",
    "        print(f'Vectors are different dimensions {a_size} and {b_size}')\n",
    "        \n",
    "    #returns the direction of vectors\n",
    "    \n",
    "# or if you want to do it all in one batch:\n",
    "def magdir_vectors(a, b):\n",
    "    a_size =a.size\n",
    "    b_size =b.size\n",
    "    \n",
    "    try:\n",
    "        \n",
    "        a_b_sum =(a+b)#returns direction of vectors\n",
    "        a_b_magnitude =np.linalg.norm(a_b_sum)#returns the magnitude of vectors\n",
    "    \n",
    "        print(f'the direction of vector is {a_b_sum} and the magintude of vector is {a_b_magnitude}')\n",
    "    \n",
    "    except:\n",
    "        print(f'Vectors are different dimensions {a_size} and {b_size}')\n",
    "        \n",
    "        \n",
    "        \n",
    "    \n",
    "    \n",
    "    \n",
    "    \n",
    "    \n",
    "  \n",
    "    \n",
    "    \n",
    "  "
   ]
  },
  {
   "cell_type": "code",
   "execution_count": 63,
   "metadata": {},
   "outputs": [
    {
     "data": {
      "text/plain": [
       "array([4, 6])"
      ]
     },
     "execution_count": 63,
     "metadata": {},
     "output_type": "execute_result"
    }
   ],
   "source": [
    "a =np.array([1,2])\n",
    "b=np.array([3,4])\n",
    "direction_vectors(a, b)\n"
   ]
  },
  {
   "cell_type": "code",
   "execution_count": 66,
   "metadata": {},
   "outputs": [
    {
     "name": "stdout",
     "output_type": "stream",
     "text": [
      "the direction of vector is [14 16] and the magintude of vector is 21.2602916254693\n"
     ]
    }
   ],
   "source": [
    "a =np.array([6,7])\n",
    "b=np.array([8,9])\n",
    "magdir_vectors(a, b)"
   ]
  },
  {
   "cell_type": "markdown",
   "metadata": {},
   "source": [
    "![title](./img/1_4.png)\n",
    "- What is the magnitude of αx⃗? \n",
    "- If α>0, will the direction of the resulting vector change?\n",
    "- If α<0, will the direction of the resulting vector change?\n",
    "- If −1<α<1, will ∥αx⃗∥  increase, decrease or stay the same?"
   ]
  },
  {
   "cell_type": "code",
   "execution_count": 82,
   "metadata": {},
   "outputs": [],
   "source": [
    "def alpha_magnitude(alpha, b):\n",
    "    \n",
    "    b = np.array(b)\n",
    "    vector = alpha * b\n",
    "     \n",
    "    if np.sign(b[0]) == np.sign(vector[0]):\n",
    "        print('No directional change')\n",
    "    else:\n",
    "        print('The direction has changed 180 degrees')\n",
    "    return (f'the vector is {vector},the magnitude is  {np.linalg.norm(vector)}')\n",
    "            "
   ]
  },
  {
   "cell_type": "code",
   "execution_count": 83,
   "metadata": {},
   "outputs": [
    {
     "name": "stdout",
     "output_type": "stream",
     "text": [
      "The direction has changed 180 degrees\n"
     ]
    },
    {
     "data": {
      "text/plain": [
       "'the vector is [-5 -5],the magnitude is  7.0710678118654755'"
      ]
     },
     "execution_count": 83,
     "metadata": {},
     "output_type": "execute_result"
    }
   ],
   "source": [
    "alpha_magnitude(-5, [1,1])"
   ]
  },
  {
   "cell_type": "code",
   "execution_count": 84,
   "metadata": {},
   "outputs": [
    {
     "name": "stdout",
     "output_type": "stream",
     "text": [
      "No directional change\n"
     ]
    },
    {
     "data": {
      "text/plain": [
       "'the vector is [5 5],the magnitude is  7.0710678118654755'"
      ]
     },
     "execution_count": 84,
     "metadata": {},
     "output_type": "execute_result"
    }
   ],
   "source": [
    "\n",
    "alpha_magnitude(5, [1,1])"
   ]
  },
  {
   "cell_type": "code",
   "execution_count": null,
   "metadata": {},
   "outputs": [],
   "source": []
  }
 ],
 "metadata": {
  "kernelspec": {
   "display_name": "Python 3",
   "language": "python",
   "name": "python3"
  },
  "language_info": {
   "codemirror_mode": {
    "name": "ipython",
    "version": 3
   },
   "file_extension": ".py",
   "mimetype": "text/x-python",
   "name": "python",
   "nbconvert_exporter": "python",
   "pygments_lexer": "ipython3",
   "version": "3.8.8"
  }
 },
 "nbformat": 4,
 "nbformat_minor": 2
}
