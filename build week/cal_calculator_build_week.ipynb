{
 "cells": [
  {
   "cell_type": "code",
   "execution_count": 8,
   "id": "therapeutic-blackberry",
   "metadata": {},
   "outputs": [],
   "source": [
    "class Calories():\n",
    "    \"\"\"\n",
    "    A class to represent Calories.\n",
    "    ...\n",
    "    Attributes\n",
    "    ----------\n",
    "    weight : float\n",
    "        weight of the person\n",
    "    height : float\n",
    "        height of the person\n",
    "    age : int\n",
    "        age of the person\n",
    "    sex : str \n",
    "        sex of the person (F or M)\n",
    "    \"\"\"\n",
    "    \n",
    "    def __init__(self, weight, height, age, sex):\n",
    "        self.weight = weight\n",
    "        self.height = height\n",
    "        self.age = age\n",
    "        self.sex = sex\n",
    "             \n",
    "    def bf(self):\n",
    "        '''Calculating body fat (not needed at the moment) '''\n",
    "        \n",
    "        bf = 10.2107142857142+1.22571429*self.accu_mesure-0.01428571*self.accu_mesure**2\n",
    "        return round(bf,1)\n",
    "       \n",
    "    def LBM(self):       \n",
    "        '''Calculate lean body mass'''\n",
    "        \n",
    "        return self.weight*(1-self.bf()/100)\n",
    "    \n",
    "    def BMR(self, sex):        \n",
    "        '''Calculate basal metabolic rate'''\n",
    "        \n",
    "        #Harris–Benedict equation\n",
    "        if sex == \"M\":\n",
    "            bmr = ((10*self.weight) + (6.25*self.height) - (5*self.age) + 5)\n",
    "        else:   \n",
    "            bmr = ((10*self.weight) + (6.25*self.height) - (5*self.age) - 161)\n",
    "            #bmr = 370 + 21.6*self.LBM()\n",
    "        return bmr\n",
    "     \n",
    "    def TDEE(self, act_mult = 1.4):        \n",
    "        '''Calculate total daily energy expenditure'''\n",
    "        \n",
    "        return round(self.BMR(self.sex)*act_mult)\n",
    "    \n",
    "    def bulk(self, percentage = 0.2, act_mult = 1.4):        \n",
    "        '''Calculate bulk calories''' \n",
    "        \n",
    "        return round(self.TDEE(act_mult = act_mult)*(1+percentage))\n",
    "    \n",
    "    def cut(self, percentage = 0.2, act_mult = 1.4):        \n",
    "        '''Calculate cut calories'''\n",
    "        \n",
    "        return round(self.TDEE(act_mult = act_mult)*(1-percentage))\n",
    "    \n",
    "    def protein_intake(self, weight, mult = 2.2):       \n",
    "        '''Calculate protein intake'''\n",
    "        \n",
    "        return round(self.weight*mult)"
   ]
  },
  {
   "cell_type": "code",
   "execution_count": 19,
   "id": "innovative-indian",
   "metadata": {},
   "outputs": [],
   "source": [
    "def calcorie_cal_in_time():\n",
    "    Walking_burned_per_minute=4.0\n",
    "    total_time_walked=int(input('how many time did you walked')) \n",
    "    calorie_burned=total_time_walked *Walking_burned_per_minute\n",
    "    return('calorie burned: {}'.format(calorie_burned))"
   ]
  },
  {
   "cell_type": "code",
   "execution_count": 20,
   "id": "opened-committee",
   "metadata": {},
   "outputs": [
    {
     "name": "stdout",
     "output_type": "stream",
     "text": [
      "how many time did you walked10\n"
     ]
    },
    {
     "data": {
      "text/plain": [
       "'calorie burned: 40.0'"
      ]
     },
     "execution_count": 20,
     "metadata": {},
     "output_type": "execute_result"
    }
   ],
   "source": [
    "calcorie_cal_in_time()"
   ]
  },
  {
   "cell_type": "code",
   "execution_count": null,
   "id": "turned-blood",
   "metadata": {},
   "outputs": [],
   "source": []
  },
  {
   "cell_type": "code",
   "execution_count": null,
   "id": "sustainable-attachment",
   "metadata": {},
   "outputs": [],
   "source": []
  },
  {
   "cell_type": "code",
   "execution_count": null,
   "id": "undefined-latex",
   "metadata": {},
   "outputs": [],
   "source": []
  },
  {
   "cell_type": "code",
   "execution_count": null,
   "id": "interesting-italy",
   "metadata": {},
   "outputs": [],
   "source": []
  }
 ],
 "metadata": {
  "kernelspec": {
   "display_name": "Python 3",
   "language": "python",
   "name": "python3"
  },
  "language_info": {
   "codemirror_mode": {
    "name": "ipython",
    "version": 3
   },
   "file_extension": ".py",
   "mimetype": "text/x-python",
   "name": "python",
   "nbconvert_exporter": "python",
   "pygments_lexer": "ipython3",
   "version": "3.8.8"
  }
 },
 "nbformat": 4,
 "nbformat_minor": 5
}
