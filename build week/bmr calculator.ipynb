{
 "cells": [
  {
   "cell_type": "code",
   "execution_count": 29,
   "id": "german-watershed",
   "metadata": {},
   "outputs": [],
   "source": [
    "def calorie_calculator():\n",
    "    weight = int(input(\"Enter your weight in KG: \\n\"))\n",
    "    height = int(input(\"Enter your height in cm: \\n\"))\n",
    "    age = int(input(\"Enter your age in years: \\n\"))\n",
    "    isgender = str(input(\"Are you male or female? (M/F)\"))\n",
    "    activity_level = input('What is your activity level (none, light, moderate, heavy,  extreme): ')\n",
    "    \n",
    "    if isgender == \"M\":\n",
    "        isgender = True\n",
    "    elif isgender == \"F\":\n",
    "        isgender = False\n",
    "    else:\n",
    "        print(\"Please enter valid input\")\n",
    "    quit()\n",
    "    \n",
    "    if isgender:\n",
    "        bmr = 66.47 + (13.75 * weight) + (5.003 * height) - (6.755 * age)\n",
    "    else:\n",
    "        bmr= 655.1 + (9.563 * weight) + (1.850 * height) - (4.676 * age) \n",
    "    bmr = round(bmr) \n",
    "    if activity_level == 'none':\n",
    "        AMR = bmr * 1.2\n",
    "    elif activity_level == 'light':\n",
    "        AMR = bmr * 1.375\n",
    "    elif activity_level == 'moderate':\n",
    "        AMR = bmr * 1.55\n",
    "    elif activity_level == 'heavy':\n",
    "        AMR = bmr * 1.725\n",
    "    else:\n",
    "         AMR = BMR * 1.9\n",
    "            \n",
    "    return('current calories in each day {}'.format(AMR))     "
   ]
  },
  {
   "cell_type": "code",
   "execution_count": 30,
   "id": "danish-kentucky",
   "metadata": {},
   "outputs": [
    {
     "name": "stdout",
     "output_type": "stream",
     "text": [
      "Enter your weight in KG: \n",
      "76\n",
      "Enter your height in cm: \n",
      "180\n",
      "Enter your age in years: \n",
      "27\n",
      "Are you male or female? (M/F)M\n",
      "What is your activity level (none, light, moderate, heavy,  extreme): light\n"
     ]
    },
    {
     "data": {
      "text/plain": [
       "'current calories in each day 2516.25'"
      ]
     },
     "execution_count": 30,
     "metadata": {},
     "output_type": "execute_result"
    }
   ],
   "source": [
    "calorie_calculator()"
   ]
  },
  {
   "cell_type": "code",
   "execution_count": null,
   "id": "hidden-transcript",
   "metadata": {},
   "outputs": [],
   "source": [
    "'''\n",
    "Sedentary (little or no exercise): AMR = BMR x 1.2\n",
    "Lightly active (exercise 1–3 days/week): AMR = BMR x 1.375\n",
    "Moderately active (exercise 3–5 days/week): AMR = BMR x 1.55\n",
    "Active (exercise 6–7 days/week): AMR = BMR x 1.725\n",
    "Very active (hard exercise 6–7 days/week): AMR = BMR x 1.9\n",
    "'''"
   ]
  },
  {
   "cell_type": "code",
   "execution_count": null,
   "id": "theoretical-commodity",
   "metadata": {},
   "outputs": [],
   "source": [
    "'''\n",
    "women =655.1 + (9.563 x weight in kg) + (1.850 x height in cm) - (4.676 x age in years)4\n",
    "men=6.47 + (13.75 x weight in kg) + (5.003 x height in cm) - (6.755 x age in years)\n",
    "'''"
   ]
  },
  {
   "cell_type": "code",
   "execution_count": 5,
   "id": "governmental-scanning",
   "metadata": {},
   "outputs": [],
   "source": [
    "def cal_burned():\n",
    "    calories_burned_per_minute = 4.2\n",
    "    walking_time = int(input(\"Enter how many minute you walked: \\n\"))\n",
    "    num_of_cal_burned =round((walking_time / 1)*calories_burned_per_minute)\n",
    "    return (\"calories burned : {} \".format(num_of_cal_burned)) "
   ]
  },
  {
   "cell_type": "code",
   "execution_count": 9,
   "id": "excess-exhaust",
   "metadata": {},
   "outputs": [
    {
     "name": "stdout",
     "output_type": "stream",
     "text": [
      "Enter how many minute you walked: \n",
      "50\n"
     ]
    },
    {
     "data": {
      "text/plain": [
       "'calories burned : 210 '"
      ]
     },
     "execution_count": 9,
     "metadata": {},
     "output_type": "execute_result"
    }
   ],
   "source": [
    "cal_burned()"
   ]
  },
  {
   "cell_type": "code",
   "execution_count": null,
   "id": "handmade-storage",
   "metadata": {},
   "outputs": [],
   "source": [
    "\n",
    "        "
   ]
  },
  {
   "cell_type": "code",
   "execution_count": null,
   "id": "valid-hearts",
   "metadata": {},
   "outputs": [],
   "source": []
  }
 ],
 "metadata": {
  "kernelspec": {
   "display_name": "Python 3",
   "language": "python",
   "name": "python3"
  },
  "language_info": {
   "codemirror_mode": {
    "name": "ipython",
    "version": 3
   },
   "file_extension": ".py",
   "mimetype": "text/x-python",
   "name": "python",
   "nbconvert_exporter": "python",
   "pygments_lexer": "ipython3",
   "version": "3.8.8"
  }
 },
 "nbformat": 4,
 "nbformat_minor": 5
}
