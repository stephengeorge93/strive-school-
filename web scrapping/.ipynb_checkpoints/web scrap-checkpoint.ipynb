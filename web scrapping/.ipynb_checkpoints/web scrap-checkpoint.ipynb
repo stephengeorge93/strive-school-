{
 "cells": [
  {
   "cell_type": "code",
   "execution_count": 8,
   "id": "acting-affiliation",
   "metadata": {},
   "outputs": [
    {
     "data": {
      "text/plain": [
       "'c:\\\\program files\\\\python37'"
      ]
     },
     "execution_count": 8,
     "metadata": {},
     "output_type": "execute_result"
    }
   ],
   "source": [
    "import os\n",
    "import sys\n",
    "os.path.dirname(sys.executable)"
   ]
  },
  {
   "cell_type": "code",
   "execution_count": 9,
   "id": "digital-terrorism",
   "metadata": {},
   "outputs": [],
   "source": [
    "import numpy as np\n",
    "import pandas as pd\n",
    "pd.options.display.max_columns = None\n",
    "pd.options.display.max_rows = None\n",
    "from datetime import date, timedelta\n",
    "from selenium import webdriver\n",
    "from selenium.webdriver.common.by import By\n",
    "from selenium.webdriver.support.ui import WebDriverWait\n",
    "from selenium.webdriver.support import expected_conditions as EC\n",
    "from datetime import datetime, timedelta\n",
    "import datetime\n",
    "import re"
   ]
  },
  {
   "cell_type": "code",
   "execution_count": 10,
   "id": "looking-masters",
   "metadata": {},
   "outputs": [],
   "source": [
    "from time import sleep\n",
    "from selenium import webdriver\n",
    "# this is tested on Firefox or you can use \"webdriver.Chrome()\"\n",
    "browser = webdriver.Firefox()"
   ]
  },
  {
   "cell_type": "code",
   "execution_count": 15,
   "id": "final-broadcasting",
   "metadata": {},
   "outputs": [
    {
     "ename": "NoSuchWindowException",
     "evalue": "Message: Browsing context has been discarded\n",
     "output_type": "error",
     "traceback": [
      "\u001b[1;31m---------------------------------------------------------------------------\u001b[0m",
      "\u001b[1;31mNoSuchWindowException\u001b[0m                     Traceback (most recent call last)",
      "\u001b[1;32m<ipython-input-15-5803ce547759>\u001b[0m in \u001b[0;36m<module>\u001b[1;34m\u001b[0m\n\u001b[1;32m----> 1\u001b[1;33m \u001b[0mbrowser\u001b[0m\u001b[1;33m.\u001b[0m\u001b[0mget\u001b[0m\u001b[1;33m(\u001b[0m\u001b[1;34m'https://forecast.weather.gov/MapClick.php?lat=37.777120000000025&lon=-122.41963999999996#.YFymb69KhPY'\u001b[0m\u001b[1;33m)\u001b[0m\u001b[1;33m\u001b[0m\u001b[1;33m\u001b[0m\u001b[0m\n\u001b[0m",
      "\u001b[1;32m~\\AppData\\Roaming\\Python\\Python37\\site-packages\\selenium\\webdriver\\remote\\webdriver.py\u001b[0m in \u001b[0;36mget\u001b[1;34m(self, url)\u001b[0m\n\u001b[0;32m    331\u001b[0m         \u001b[0mLoads\u001b[0m \u001b[0ma\u001b[0m \u001b[0mweb\u001b[0m \u001b[0mpage\u001b[0m \u001b[1;32min\u001b[0m \u001b[0mthe\u001b[0m \u001b[0mcurrent\u001b[0m \u001b[0mbrowser\u001b[0m \u001b[0msession\u001b[0m\u001b[1;33m.\u001b[0m\u001b[1;33m\u001b[0m\u001b[1;33m\u001b[0m\u001b[0m\n\u001b[0;32m    332\u001b[0m         \"\"\"\n\u001b[1;32m--> 333\u001b[1;33m         \u001b[0mself\u001b[0m\u001b[1;33m.\u001b[0m\u001b[0mexecute\u001b[0m\u001b[1;33m(\u001b[0m\u001b[0mCommand\u001b[0m\u001b[1;33m.\u001b[0m\u001b[0mGET\u001b[0m\u001b[1;33m,\u001b[0m \u001b[1;33m{\u001b[0m\u001b[1;34m'url'\u001b[0m\u001b[1;33m:\u001b[0m \u001b[0murl\u001b[0m\u001b[1;33m}\u001b[0m\u001b[1;33m)\u001b[0m\u001b[1;33m\u001b[0m\u001b[1;33m\u001b[0m\u001b[0m\n\u001b[0m\u001b[0;32m    334\u001b[0m \u001b[1;33m\u001b[0m\u001b[0m\n\u001b[0;32m    335\u001b[0m     \u001b[1;33m@\u001b[0m\u001b[0mproperty\u001b[0m\u001b[1;33m\u001b[0m\u001b[1;33m\u001b[0m\u001b[0m\n",
      "\u001b[1;32m~\\AppData\\Roaming\\Python\\Python37\\site-packages\\selenium\\webdriver\\remote\\webdriver.py\u001b[0m in \u001b[0;36mexecute\u001b[1;34m(self, driver_command, params)\u001b[0m\n\u001b[0;32m    319\u001b[0m         \u001b[0mresponse\u001b[0m \u001b[1;33m=\u001b[0m \u001b[0mself\u001b[0m\u001b[1;33m.\u001b[0m\u001b[0mcommand_executor\u001b[0m\u001b[1;33m.\u001b[0m\u001b[0mexecute\u001b[0m\u001b[1;33m(\u001b[0m\u001b[0mdriver_command\u001b[0m\u001b[1;33m,\u001b[0m \u001b[0mparams\u001b[0m\u001b[1;33m)\u001b[0m\u001b[1;33m\u001b[0m\u001b[1;33m\u001b[0m\u001b[0m\n\u001b[0;32m    320\u001b[0m         \u001b[1;32mif\u001b[0m \u001b[0mresponse\u001b[0m\u001b[1;33m:\u001b[0m\u001b[1;33m\u001b[0m\u001b[1;33m\u001b[0m\u001b[0m\n\u001b[1;32m--> 321\u001b[1;33m             \u001b[0mself\u001b[0m\u001b[1;33m.\u001b[0m\u001b[0merror_handler\u001b[0m\u001b[1;33m.\u001b[0m\u001b[0mcheck_response\u001b[0m\u001b[1;33m(\u001b[0m\u001b[0mresponse\u001b[0m\u001b[1;33m)\u001b[0m\u001b[1;33m\u001b[0m\u001b[1;33m\u001b[0m\u001b[0m\n\u001b[0m\u001b[0;32m    322\u001b[0m             response['value'] = self._unwrap_value(\n\u001b[0;32m    323\u001b[0m                 response.get('value', None))\n",
      "\u001b[1;32m~\\AppData\\Roaming\\Python\\Python37\\site-packages\\selenium\\webdriver\\remote\\errorhandler.py\u001b[0m in \u001b[0;36mcheck_response\u001b[1;34m(self, response)\u001b[0m\n\u001b[0;32m    240\u001b[0m                 \u001b[0malert_text\u001b[0m \u001b[1;33m=\u001b[0m \u001b[0mvalue\u001b[0m\u001b[1;33m[\u001b[0m\u001b[1;34m'alert'\u001b[0m\u001b[1;33m]\u001b[0m\u001b[1;33m.\u001b[0m\u001b[0mget\u001b[0m\u001b[1;33m(\u001b[0m\u001b[1;34m'text'\u001b[0m\u001b[1;33m)\u001b[0m\u001b[1;33m\u001b[0m\u001b[1;33m\u001b[0m\u001b[0m\n\u001b[0;32m    241\u001b[0m             \u001b[1;32mraise\u001b[0m \u001b[0mexception_class\u001b[0m\u001b[1;33m(\u001b[0m\u001b[0mmessage\u001b[0m\u001b[1;33m,\u001b[0m \u001b[0mscreen\u001b[0m\u001b[1;33m,\u001b[0m \u001b[0mstacktrace\u001b[0m\u001b[1;33m,\u001b[0m \u001b[0malert_text\u001b[0m\u001b[1;33m)\u001b[0m\u001b[1;33m\u001b[0m\u001b[1;33m\u001b[0m\u001b[0m\n\u001b[1;32m--> 242\u001b[1;33m         \u001b[1;32mraise\u001b[0m \u001b[0mexception_class\u001b[0m\u001b[1;33m(\u001b[0m\u001b[0mmessage\u001b[0m\u001b[1;33m,\u001b[0m \u001b[0mscreen\u001b[0m\u001b[1;33m,\u001b[0m \u001b[0mstacktrace\u001b[0m\u001b[1;33m)\u001b[0m\u001b[1;33m\u001b[0m\u001b[1;33m\u001b[0m\u001b[0m\n\u001b[0m\u001b[0;32m    243\u001b[0m \u001b[1;33m\u001b[0m\u001b[0m\n\u001b[0;32m    244\u001b[0m     \u001b[1;32mdef\u001b[0m \u001b[0m_value_or_default\u001b[0m\u001b[1;33m(\u001b[0m\u001b[0mself\u001b[0m\u001b[1;33m,\u001b[0m \u001b[0mobj\u001b[0m\u001b[1;33m,\u001b[0m \u001b[0mkey\u001b[0m\u001b[1;33m,\u001b[0m \u001b[0mdefault\u001b[0m\u001b[1;33m)\u001b[0m\u001b[1;33m:\u001b[0m\u001b[1;33m\u001b[0m\u001b[1;33m\u001b[0m\u001b[0m\n",
      "\u001b[1;31mNoSuchWindowException\u001b[0m: Message: Browsing context has been discarded\n"
     ]
    }
   ],
   "source": [
    "browser.get('https://forecast.weather.gov/MapClick.php?lat=37.777120000000025&lon=-122.41963999999996#.YFymb69KhPY')\n"
   ]
  },
  {
   "cell_type": "code",
   "execution_count": 12,
   "id": "national-trust",
   "metadata": {},
   "outputs": [
    {
     "name": "stdout",
     "output_type": "stream",
     "text": [
      "7-Day Forecast for Latitude 37.77°N and Longitude 122.41°W (Elev. 131 ft)\n"
     ]
    }
   ],
   "source": [
    "print(browser.title)\n",
    "\n",
    "\n",
    "                                       \n",
    "                                       \n",
    "                                       "
   ]
  },
  {
   "cell_type": "code",
   "execution_count": 13,
   "id": "respective-bahamas",
   "metadata": {},
   "outputs": [],
   "source": [
    "# temperature of 4 days\n",
    "tempH1 = browser.find_element_by_xpath(\"/html/body/main/div/div[5]/div[2]/div/ul/li[1]/div/p[4]\")\n",
    "tempH2 = browser.find_element_by_xpath(\"/html/body/main/div/div[5]/div[2]/div/ul/li[3]/div/p[4]\")\n",
    "tempH3 = browser.find_element_by_xpath(\"/html/body/main/div/div[5]/div[2]/div/ul/li[5]/div/p[4]\")\n",
    "tempH4 = browser.find_element_by_xpath(\"/html/body/main/div/div[5]/div[2]/div/ul/li[6]/div/p[4]\")\n",
    "\n",
    "tempL1 = browser.find_element_by_xpath(\"/html/body/main/div/div[5]/div[2]/div/ul/li[2]/div/p[4]\")\n",
    "tempL2 = browser.find_element_by_xpath(\"/html/body/main/div/div[5]/div[2]/div/ul/li[4]/div/p[4]\")\n",
    "tempL3 = browser.find_element_by_xpath(\"/html/body/main/div/div[5]/div[2]/div/ul/li[7]/div/p[4]\")\n",
    "tempL4 = browser.find_element_by_xpath(\"/html/body/main/div/div[5]/div[2]/div/ul/li[8]/div/p[4]\")\n",
    "\n",
    "temp1_H = ((float((tempH1.text.split(\":\",1)[1]).split(\" \",-1)[1])-32)*5/9) \n",
    "temp2_H = ((float((tempH2.text.split(\":\",1)[1]).split(\" \",-1)[1])-32)*5/9) \n",
    "temp3_H = ((float((tempH3.text.split(\":\",1)[1]).split(\" \",-1)[1])-32)*5/9) \n",
    "temp4_H = ((float((tempH4.text.split(\":\",1)[1]).split(\" \",-1)[1])-32)*5/9) \n",
    "\n",
    "temp1_L = ((float((tempL1.text.split(\":\",1)[1]).split(\" \",-1)[1])-32)*5/9)\n",
    "temp2_L = ((float((tempL2.text.split(\":\",1)[1]).split(\" \",-1)[1])-32)*5/9)\n",
    "temp3_L = ((float((tempL3.text.split(\":\",1)[1]).split(\" \",-1)[1])-32)*5/9)\n",
    "temp4_L = ((float((tempL4.text.split(\":\",1)[1]).split(\" \",-1)[1])-32)*5/9)\n",
    "\n",
    "Desc_1 = browser.find_element_by_xpath(\"/html/body/main/div/div[6]/div[1]/div[1]/div[2]/div[1]/div[2]\") \n",
    "Desc_2 = browser.find_element_by_xpath(\"/html/body/main/div/div[6]/div[1]/div[1]/div[2]/div[3]/div[2]\") \n",
    "Desc_3 = browser.find_element_by_xpath(\"/html/body/main/div/div[6]/div[1]/div[1]/div[2]/div[5]/div[2]\") \n",
    "Desc_4 = browser.find_element_by_xpath(\"/html/body/main/div/div[6]/div[1]/div[1]/div[2]/div[7]/div[2]\") \n",
    "Desc_5 = browser.find_element_by_xpath(\"/html/body/main/div/div[6]/div[1]/div[1]/div[2]/div[9]/div[2]\") \n",
    "Desc_6 = browser.find_element_by_xpath(\"/html/body/main/div/div[6]/div[1]/div[1]/div[2]/div[11]/div[2]\")\n",
    "Desc_7 = browser.find_element_by_xpath(\"/html/body/main/div/div[6]/div[1]/div[1]/div[2]/div[13]/div[2]\")\n",
    "\n",
    "Desc_11 = browser.find_element_by_xpath(\"/html/body/main/div/div[6]/div[1]/div[1]/div[2]/div[2]/div[2]\")\n",
    "Desc_21 = browser.find_element_by_xpath(\"/html/body/main/div/div[6]/div[1]/div[1]/div[2]/div[4]/div[2]\")\n",
    "Desc_31 = browser.find_element_by_xpath(\"/html/body/main/div/div[6]/div[1]/div[1]/div[2]/div[6]/div[2]\")\n",
    "Desc_41 = browser.find_element_by_xpath(\"/html/body/main/div/div[6]/div[1]/div[1]/div[2]/div[8]/div[2]\")\n",
    "Desc_51 = browser.find_element_by_xpath(\"/html/body/main/div/div[6]/div[1]/div[1]/div[2]/div[10]/div[2]\")\n",
    "Desc_61 = browser.find_element_by_xpath(\"/html/body/main/div/div[6]/div[1]/div[1]/div[2]/div[12]/div[2]\")\n",
    " \n",
    "Desc1 =Desc_1.text\n",
    "Desc2 =Desc_11.text\n",
    "Desc3 =Desc_2.text\n",
    "Desc4 =Desc_21.text\n",
    "Desc5 =Desc_3.text\n",
    "Desc6 =Desc_31.text\n",
    "Desc7 =Desc_4.text\n",
    "Desc8 =Desc_41.text\n",
    "Desc9 =Desc_5.text\n",
    "Desc10 =Desc_51.text\n",
    "Desc11 =Desc_6.text\n",
    "Desc12 =Desc_61.text\n",
    "Desc13 =Desc_7.text\n",
    "\n",
    "\n"
   ]
  },
  {
   "cell_type": "code",
   "execution_count": 14,
   "id": "statistical-staff",
   "metadata": {},
   "outputs": [],
   "source": [
    "start_date = datetime.date(2021, 3, 24)\n",
    "end_date = datetime.date(2021, 3, 27)\n",
    "delta = datetime.timedelta(days=1)\n",
    "date_list = []\n",
    "day_list = []\n",
    "while start_date <= end_date:\n",
    "    #print(start_date,start_date.strftime(\"%A\"))\n",
    "    date_list.append(start_date)\n",
    "    day_list.append(start_date.strftime(\"%A\"))\n",
    "    start_date += delta\n",
    "\n",
    "df = pd.DataFrame({'Date': [date_list[0], date_list[1], date_list[2], date_list[3]],\n",
    "                   'Day':[day_list[0], day_list[1], day_list[2], day_list[3]],\n",
    "              'Temp H': [temp1_H, temp2_H, temp3_H, temp4_H],\n",
    "              'Temp L': [temp1_L, temp2_L, temp3_L, temp4_L],\n",
    "                   'Desc': [Desc1+Desc2, Desc3+Desc4, Desc5+Desc6, Desc7+Desc8]})"
   ]
  },
  {
   "cell_type": "code",
   "execution_count": null,
   "id": "fantastic-baker",
   "metadata": {},
   "outputs": [],
   "source": []
  }
 ],
 "metadata": {
  "kernelspec": {
   "display_name": "Python 3",
   "language": "python",
   "name": "python3"
  },
  "language_info": {
   "codemirror_mode": {
    "name": "ipython",
    "version": 3
   },
   "file_extension": ".py",
   "mimetype": "text/x-python",
   "name": "python",
   "nbconvert_exporter": "python",
   "pygments_lexer": "ipython3",
   "version": "3.7.9"
  }
 },
 "nbformat": 4,
 "nbformat_minor": 5
}
