{
 "cells": [
  {
   "cell_type": "code",
   "execution_count": 1,
   "id": "split-panama",
   "metadata": {},
   "outputs": [],
   "source": [
    "import numpy as np\n",
    "import pandas as pd\n",
    "pd.options.display.max_columns = None\n",
    "pd.options.display.max_rows = None\n",
    "from datetime import date, timedelta\n",
    "from selenium import webdriver\n",
    "from selenium.webdriver.common.by import By\n",
    "from selenium.webdriver.support.ui import WebDriverWait\n",
    "from selenium.webdriver.support import expected_conditions as EC\n",
    "from datetime import datetime, timedelta\n",
    "import datetime\n",
    "import re"
   ]
  },
  {
   "cell_type": "code",
   "execution_count": 2,
   "id": "extensive-baseball",
   "metadata": {},
   "outputs": [],
   "source": [
    "from time import sleep\n",
    "from selenium import webdriver"
   ]
  },
  {
   "cell_type": "code",
   "execution_count": 3,
   "id": "beautiful-robin",
   "metadata": {},
   "outputs": [],
   "source": [
    "driver = webdriver.firefox.webdriver.WebDriver()"
   ]
  },
  {
   "cell_type": "code",
   "execution_count": null,
   "id": "returning-community",
   "metadata": {},
   "outputs": [],
   "source": [
    "\n",
    "driver.get('https://interaktiv.tagesspiegel.de/lab/karte-sars-cov-2-in-deutschland-landkreise/')"
   ]
  },
  {
   "cell_type": "code",
   "execution_count": 6,
   "id": "pressed-digit",
   "metadata": {},
   "outputs": [
    {
     "data": {
      "text/plain": [
       "'Coronavirus-Karte: Deutschlandweite Fallzahlen in Echtzeit | Tagesspiegel'"
      ]
     },
     "execution_count": 6,
     "metadata": {},
     "output_type": "execute_result"
    }
   ],
   "source": [
    "driver.title"
   ]
  },
  {
   "cell_type": "code",
   "execution_count": 8,
   "id": "helpful-thong",
   "metadata": {},
   "outputs": [],
   "source": [
    "elementID = driver.find_element_by_class_name('tscdm-list-listelem')"
   ]
  },
  {
   "cell_type": "code",
   "execution_count": 20,
   "id": "chemical-document",
   "metadata": {},
   "outputs": [],
   "source": [
    "\n",
    "elementID1=driver.find_elements_by_xpath('//*[@id=\"tscdm-list-Thüringen\"]')\n",
    "    "
   ]
  },
  {
   "cell_type": "code",
   "execution_count": 21,
   "id": "composed-entry",
   "metadata": {},
   "outputs": [
    {
     "data": {
      "text/plain": [
       "[<selenium.webdriver.firefox.webelement.FirefoxWebElement (session=\"b3f69d48-c89c-487d-8879-b1c54a43366a\", element=\"c1795d4b-c52d-40b1-b081-c43597dc8fe2\")>]"
      ]
     },
     "execution_count": 21,
     "metadata": {},
     "output_type": "execute_result"
    }
   ],
   "source": []
  },
  {
   "cell_type": "code",
   "execution_count": 13,
   "id": "higher-translator",
   "metadata": {},
   "outputs": [],
   "source": []
  },
  {
   "cell_type": "code",
   "execution_count": 14,
   "id": "coupled-repeat",
   "metadata": {},
   "outputs": [
    {
     "data": {
      "text/plain": [
       "<selenium.webdriver.firefox.webelement.FirefoxWebElement (session=\"b3f69d48-c89c-487d-8879-b1c54a43366a\", element=\"2a976c72-33a7-4c5e-b2b1-a41cab25cdef\")>"
      ]
     },
     "execution_count": 14,
     "metadata": {},
     "output_type": "execute_result"
    }
   ],
   "source": []
  },
  {
   "cell_type": "code",
   "execution_count": null,
   "id": "sublime-texas",
   "metadata": {},
   "outputs": [],
   "source": [
    "#/html/body/article/div[3]/div/div[3]/div[2]/div/div[3]/div[4]/div[2]/div[1]/div[2]#last 7 days"
   ]
  },
  {
   "cell_type": "code",
   "execution_count": null,
   "id": "changing-heaven",
   "metadata": {},
   "outputs": [],
   "source": [
    "#/html/body/article/div[3]/div/div[3]/div[2]/div/div[3]/div[4]/div[2]/div[1]/div[3]#number"
   ]
  }
 ],
 "metadata": {
  "kernelspec": {
   "display_name": "Python 3",
   "language": "python",
   "name": "python3"
  },
  "language_info": {
   "codemirror_mode": {
    "name": "ipython",
    "version": 3
   },
   "file_extension": ".py",
   "mimetype": "text/x-python",
   "name": "python",
   "nbconvert_exporter": "python",
   "pygments_lexer": "ipython3",
   "version": "3.8.8"
  }
 },
 "nbformat": 4,
 "nbformat_minor": 5
}
