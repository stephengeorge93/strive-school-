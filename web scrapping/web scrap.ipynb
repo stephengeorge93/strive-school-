{
 "cells": [
  {
   "cell_type": "code",
   "execution_count": 17,
   "id": "acting-affiliation",
   "metadata": {},
   "outputs": [
    {
     "data": {
      "text/plain": [
       "'c:\\\\program files\\\\python37'"
      ]
     },
     "execution_count": 17,
     "metadata": {},
     "output_type": "execute_result"
    }
   ],
   "source": [
    "import os\n",
    "import sys\n",
    "os.path.dirname(sys.executable)"
   ]
  },
  {
   "cell_type": "code",
   "execution_count": 18,
   "id": "digital-terrorism",
   "metadata": {},
   "outputs": [],
   "source": [
    "import numpy as np\n",
    "import pandas as pd\n",
    "pd.options.display.max_columns = None\n",
    "pd.options.display.max_rows = None\n",
    "from datetime import date, timedelta\n",
    "from selenium import webdriver\n",
    "from selenium.webdriver.common.by import By\n",
    "from selenium.webdriver.support.ui import WebDriverWait\n",
    "from selenium.webdriver.support import expected_conditions as EC"
   ]
  },
  {
   "cell_type": "code",
   "execution_count": 19,
   "id": "looking-masters",
   "metadata": {},
   "outputs": [],
   "source": [
    "from time import sleep\n",
    "from selenium import webdriver\n",
    "# this is tested on Firefox or you can use \"webdriver.Chrome()\"\n",
    "browser = webdriver.Firefox()"
   ]
  },
  {
   "cell_type": "code",
   "execution_count": 20,
   "id": "final-broadcasting",
   "metadata": {},
   "outputs": [],
   "source": [
    "browser.get('https://forecast.weather.gov/MapClick.php?lat=37.777120000000025&lon=-122.41963999999996#.YFs8Q69KhPY')\n"
   ]
  },
  {
   "cell_type": "code",
   "execution_count": 24,
   "id": "national-trust",
   "metadata": {},
   "outputs": [
    {
     "ename": "SyntaxError",
     "evalue": "invalid syntax (<ipython-input-24-38e7ee2c5481>, line 1)",
     "output_type": "error",
     "traceback": [
      "\u001b[1;36m  File \u001b[1;32m\"<ipython-input-24-38e7ee2c5481>\"\u001b[1;36m, line \u001b[1;32m1\u001b[0m\n\u001b[1;33m    data = browser.find_elements_by_xpath(\"<div class=\"col-sm-10\" \"forecast-text\">\")\u001b[0m\n\u001b[1;37m                                                         ^\u001b[0m\n\u001b[1;31mSyntaxError\u001b[0m\u001b[1;31m:\u001b[0m invalid syntax\n"
     ]
    }
   ],
   "source": [
    "data = browser.find_elements_by_xpath(['class=\"col-sm-10 forecast-text\"])\n",
    "groups = browser.find_elements_by_class_name(\"col-sm-10 forecast-text\")\n",
    "data = {}\n",
    "for group in groups:\n",
    "    if \"placeholder\" not in group.get_attribute(\"class\"):\n",
    "        specs = group.find_elements_by_class_name(\"specs__cell\")\n",
    "        dimension = specs[0].text.strip()\n",
    "        value = float(specs[1].text.replace(\"in\",\"\").strip())\n",
    "        #print(dimension,\":\",value)\n",
    "        if dimension not in data:\n",
    "            data[dimension] = []\n",
    "        data[dimension].append(value)\n",
    "print(data)\n",
    "data_frame = pd.DataFrame(data=data)\n",
    "print(data_frame)\n",
    "                                       \n",
    "#the code wont work\n",
    "                                       \n",
    "                                       \n",
    "                                       "
   ]
  },
  {
   "cell_type": "code",
   "execution_count": null,
   "id": "respective-bahamas",
   "metadata": {},
   "outputs": [],
   "source": []
  }
 ],
 "metadata": {
  "kernelspec": {
   "display_name": "Python 3",
   "language": "python",
   "name": "python3"
  },
  "language_info": {
   "codemirror_mode": {
    "name": "ipython",
    "version": 3
   },
   "file_extension": ".py",
   "mimetype": "text/x-python",
   "name": "python",
   "nbconvert_exporter": "python",
   "pygments_lexer": "ipython3",
   "version": "3.7.9"
  }
 },
 "nbformat": 4,
 "nbformat_minor": 5
}
