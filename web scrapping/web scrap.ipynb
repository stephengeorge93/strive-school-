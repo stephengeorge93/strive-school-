{
 "cells": [
  {
   "cell_type": "code",
   "execution_count": 1,
   "id": "acting-affiliation",
   "metadata": {},
   "outputs": [
    {
     "data": {
      "text/plain": [
       "'C:\\\\Users\\\\Win10\\\\anaconda3\\\\envs\\\\AI'"
      ]
     },
     "execution_count": 1,
     "metadata": {},
     "output_type": "execute_result"
    }
   ],
   "source": [
    "import os\n",
    "import sys\n",
    "os.path.dirname(sys.executable)"
   ]
  },
  {
   "cell_type": "code",
   "execution_count": 2,
   "id": "digital-terrorism",
   "metadata": {},
   "outputs": [],
   "source": [
    "import numpy as np\n",
    "import pandas as pd\n",
    "pd.options.display.max_columns = None\n",
    "pd.options.display.max_rows = None\n",
    "from datetime import date, timedelta\n",
    "from selenium import webdriver\n",
    "from selenium.webdriver.common.by import By\n",
    "from selenium.webdriver.support.ui import WebDriverWait\n",
    "from selenium.webdriver.support import expected_conditions as EC\n",
    "from datetime import datetime, timedelta\n",
    "import datetime\n",
    "import re"
   ]
  },
  {
   "cell_type": "code",
   "execution_count": 3,
   "id": "looking-masters",
   "metadata": {},
   "outputs": [],
   "source": [
    "from time import sleep\n",
    "from selenium import webdriver\n",
    "# this is tested on Firefox or you can use \"webdriver.Chrome()\"\n",
    "browser = webdriver.Firefox()"
   ]
  },
  {
   "cell_type": "code",
   "execution_count": 4,
   "id": "final-broadcasting",
   "metadata": {},
   "outputs": [],
   "source": [
    "browser.get('https://forecast.weather.gov/MapClick.php?lat=37.777120000000025&lon=-122.41963999999996#.YFymb69KhPY')\n"
   ]
  },
  {
   "cell_type": "code",
   "execution_count": 5,
   "id": "national-trust",
   "metadata": {},
   "outputs": [
    {
     "name": "stdout",
     "output_type": "stream",
     "text": [
      "7-Day Forecast for Latitude 37.77°N and Longitude 122.41°W (Elev. 131 ft)\n"
     ]
    }
   ],
   "source": [
    "print(browser.title)\n",
    "\n",
    "\n",
    "                                       \n",
    "                                       \n",
    "                                       "
   ]
  },
  {
   "cell_type": "code",
   "execution_count": 6,
   "id": "respective-bahamas",
   "metadata": {},
   "outputs": [],
   "source": [
    "# temperature of 4 days\n",
    "tempH1 = browser.find_element_by_xpath(\"/html/body/main/div/div[5]/div[2]/div/ul/li[1]/div/p[4]\")\n",
    "tempH2 = browser.find_element_by_xpath(\"/html/body/main/div/div[5]/div[2]/div/ul/li[3]/div/p[4]\")\n",
    "tempH3 = browser.find_element_by_xpath(\"/html/body/main/div/div[5]/div[2]/div/ul/li[5]/div/p[4]\")\n",
    "tempH4 = browser.find_element_by_xpath(\"/html/body/main/div/div[5]/div[2]/div/ul/li[6]/div/p[4]\")\n",
    "\n",
    "tempL1 = browser.find_element_by_xpath(\"/html/body/main/div/div[5]/div[2]/div/ul/li[2]/div/p[4]\")\n",
    "tempL2 = browser.find_element_by_xpath(\"/html/body/main/div/div[5]/div[2]/div/ul/li[4]/div/p[4]\")\n",
    "tempL3 = browser.find_element_by_xpath(\"/html/body/main/div/div[5]/div[2]/div/ul/li[7]/div/p[4]\")\n",
    "tempL4 = browser.find_element_by_xpath(\"/html/body/main/div/div[5]/div[2]/div/ul/li[8]/div/p[4]\")\n",
    "\n",
    "temp1_H = ((float((tempH1.text.split(\":\",1)[1]).split(\" \",-1)[1])-32)*5/9) \n",
    "temp2_H = ((float((tempH2.text.split(\":\",1)[1]).split(\" \",-1)[1])-32)*5/9) \n",
    "temp3_H = ((float((tempH3.text.split(\":\",1)[1]).split(\" \",-1)[1])-32)*5/9) \n",
    "temp4_H = ((float((tempH4.text.split(\":\",1)[1]).split(\" \",-1)[1])-32)*5/9) \n",
    "\n",
    "temp1_L = ((float((tempL1.text.split(\":\",1)[1]).split(\" \",-1)[1])-32)*5/9)\n",
    "temp2_L = ((float((tempL2.text.split(\":\",1)[1]).split(\" \",-1)[1])-32)*5/9)\n",
    "temp3_L = ((float((tempL3.text.split(\":\",1)[1]).split(\" \",-1)[1])-32)*5/9)\n",
    "temp4_L = ((float((tempL4.text.split(\":\",1)[1]).split(\" \",-1)[1])-32)*5/9)\n",
    "\n",
    "Desc_1 = browser.find_element_by_xpath(\"/html/body/main/div/div[6]/div[1]/div[1]/div[2]/div[1]/div[2]\") \n",
    "Desc_2 = browser.find_element_by_xpath(\"/html/body/main/div/div[6]/div[1]/div[1]/div[2]/div[3]/div[2]\") \n",
    "Desc_3 = browser.find_element_by_xpath(\"/html/body/main/div/div[6]/div[1]/div[1]/div[2]/div[5]/div[2]\") \n",
    "Desc_4 = browser.find_element_by_xpath(\"/html/body/main/div/div[6]/div[1]/div[1]/div[2]/div[7]/div[2]\") \n",
    "Desc_5 = browser.find_element_by_xpath(\"/html/body/main/div/div[6]/div[1]/div[1]/div[2]/div[9]/div[2]\") \n",
    "Desc_6 = browser.find_element_by_xpath(\"/html/body/main/div/div[6]/div[1]/div[1]/div[2]/div[11]/div[2]\")\n",
    "Desc_7 = browser.find_element_by_xpath(\"/html/body/main/div/div[6]/div[1]/div[1]/div[2]/div[13]/div[2]\")\n",
    "\n",
    "Desc_11 = browser.find_element_by_xpath(\"/html/body/main/div/div[6]/div[1]/div[1]/div[2]/div[2]/div[2]\")\n",
    "Desc_21 = browser.find_element_by_xpath(\"/html/body/main/div/div[6]/div[1]/div[1]/div[2]/div[4]/div[2]\")\n",
    "Desc_31 = browser.find_element_by_xpath(\"/html/body/main/div/div[6]/div[1]/div[1]/div[2]/div[6]/div[2]\")\n",
    "Desc_41 = browser.find_element_by_xpath(\"/html/body/main/div/div[6]/div[1]/div[1]/div[2]/div[8]/div[2]\")\n",
    "Desc_51 = browser.find_element_by_xpath(\"/html/body/main/div/div[6]/div[1]/div[1]/div[2]/div[10]/div[2]\")\n",
    "Desc_61 = browser.find_element_by_xpath(\"/html/body/main/div/div[6]/div[1]/div[1]/div[2]/div[12]/div[2]\")\n",
    " \n",
    "Desc1 =Desc_1.text\n",
    "Desc2 =Desc_11.text\n",
    "Desc3 =Desc_2.text\n",
    "Desc4 =Desc_21.text\n",
    "Desc5 =Desc_3.text\n",
    "Desc6 =Desc_31.text\n",
    "Desc7 =Desc_4.text\n",
    "Desc8 =Desc_41.text\n",
    "Desc9 =Desc_5.text\n",
    "Desc10 =Desc_51.text\n",
    "Desc11 =Desc_6.text\n",
    "Desc12 =Desc_61.text\n",
    "Desc13 =Desc_7.text\n",
    "\n",
    "\n"
   ]
  },
  {
   "cell_type": "code",
   "execution_count": 7,
   "id": "statistical-staff",
   "metadata": {},
   "outputs": [],
   "source": [
    "start_date = datetime.date(2021, 3, 24)\n",
    "end_date = datetime.date(2021, 3, 27)\n",
    "delta = datetime.timedelta(days=1)\n",
    "date_list = []\n",
    "day_list = []\n",
    "while start_date <= end_date:\n",
    "    #print(start_date,start_date.strftime(\"%A\"))\n",
    "    date_list.append(start_date)\n",
    "    day_list.append(start_date.strftime(\"%A\"))\n",
    "    start_date += delta\n",
    "\n",
    "df = pd.DataFrame({'Date': [date_list[0], date_list[1], date_list[2], date_list[3]],\n",
    "                   'Day':[day_list[0], day_list[1], day_list[2], day_list[3]],\n",
    "              'Temp H': [temp1_H, temp2_H, temp3_H, temp4_H],\n",
    "              'Temp L': [temp1_L, temp2_L, temp3_L, temp4_L],\n",
    "                   'Desc': [Desc1+Desc2, Desc3+Desc4, Desc5+Desc6, Desc7+Desc8]})"
   ]
  },
  {
   "cell_type": "code",
   "execution_count": 8,
   "id": "fantastic-baker",
   "metadata": {},
   "outputs": [
    {
     "data": {
      "text/html": [
       "<div>\n",
       "<style scoped>\n",
       "    .dataframe tbody tr th:only-of-type {\n",
       "        vertical-align: middle;\n",
       "    }\n",
       "\n",
       "    .dataframe tbody tr th {\n",
       "        vertical-align: top;\n",
       "    }\n",
       "\n",
       "    .dataframe thead th {\n",
       "        text-align: right;\n",
       "    }\n",
       "</style>\n",
       "<table border=\"1\" class=\"dataframe\">\n",
       "  <thead>\n",
       "    <tr style=\"text-align: right;\">\n",
       "      <th></th>\n",
       "      <th>Date</th>\n",
       "      <th>Day</th>\n",
       "      <th>Temp H</th>\n",
       "      <th>Temp L</th>\n",
       "      <th>Desc</th>\n",
       "    </tr>\n",
       "  </thead>\n",
       "  <tbody>\n",
       "    <tr>\n",
       "      <th>0</th>\n",
       "      <td>2021-03-24</td>\n",
       "      <td>Wednesday</td>\n",
       "      <td>20.000000</td>\n",
       "      <td>8.333333</td>\n",
       "      <td>Sunny, with a high near 68. Light and variable...</td>\n",
       "    </tr>\n",
       "    <tr>\n",
       "      <th>1</th>\n",
       "      <td>2021-03-25</td>\n",
       "      <td>Thursday</td>\n",
       "      <td>18.888889</td>\n",
       "      <td>9.444444</td>\n",
       "      <td>Sunny, with a high near 66. Light and variable...</td>\n",
       "    </tr>\n",
       "    <tr>\n",
       "      <th>2</th>\n",
       "      <td>2021-03-26</td>\n",
       "      <td>Friday</td>\n",
       "      <td>23.333333</td>\n",
       "      <td>24.444444</td>\n",
       "      <td>Sunny, with a high near 74. North northeast wi...</td>\n",
       "    </tr>\n",
       "    <tr>\n",
       "      <th>3</th>\n",
       "      <td>2021-03-27</td>\n",
       "      <td>Saturday</td>\n",
       "      <td>11.111111</td>\n",
       "      <td>10.555556</td>\n",
       "      <td>Sunny, with a high near 76.Mostly clear, with ...</td>\n",
       "    </tr>\n",
       "  </tbody>\n",
       "</table>\n",
       "</div>"
      ],
      "text/plain": [
       "         Date        Day     Temp H     Temp L  \\\n",
       "0  2021-03-24  Wednesday  20.000000   8.333333   \n",
       "1  2021-03-25   Thursday  18.888889   9.444444   \n",
       "2  2021-03-26     Friday  23.333333  24.444444   \n",
       "3  2021-03-27   Saturday  11.111111  10.555556   \n",
       "\n",
       "                                                Desc  \n",
       "0  Sunny, with a high near 68. Light and variable...  \n",
       "1  Sunny, with a high near 66. Light and variable...  \n",
       "2  Sunny, with a high near 74. North northeast wi...  \n",
       "3  Sunny, with a high near 76.Mostly clear, with ...  "
      ]
     },
     "execution_count": 8,
     "metadata": {},
     "output_type": "execute_result"
    }
   ],
   "source": [
    "df"
   ]
  },
  {
   "cell_type": "code",
   "execution_count": null,
   "id": "alpine-allocation",
   "metadata": {},
   "outputs": [],
   "source": []
  }
 ],
 "metadata": {
  "kernelspec": {
   "display_name": "Python 3",
   "language": "python",
   "name": "python3"
  },
  "language_info": {
   "codemirror_mode": {
    "name": "ipython",
    "version": 3
   },
   "file_extension": ".py",
   "mimetype": "text/x-python",
   "name": "python",
   "nbconvert_exporter": "python",
   "pygments_lexer": "ipython3",
   "version": "3.8.8"
  }
 },
 "nbformat": 4,
 "nbformat_minor": 5
}
