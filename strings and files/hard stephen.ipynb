{
 "cells": [
  {
   "cell_type": "markdown",
   "metadata": {},
   "source": [
    "Here you have a collection of guided exercises for the first class on Python. <br>\n",
    "The exercises are divided by topic, following the topics reviewed during the theory session, and for each topic you have some mandatory exercises, and other optional exercises, which you are invited to do if you still have time after the mandatory exercises. <br>\n",
    "\n",
    "Remember that you have 5 hours to solve these exercises, after which we will review the most interesting exercises together. If you don't finish all the exercises, you can work on them tonightor tomorrow. \n",
    "\n",
    "At the end of the class, we will upload the code with the solutions of the exercises so that you can review them again if needed. If you still have not finished some exercises, try to do them first by yourself, before taking a look at the solutions: you are doing these exercises for yourself, so it is always the best to do them your way first, as it is the fastest way to learn!"
   ]
  },
  {
   "cell_type": "markdown",
   "metadata": {},
   "source": [
    "**Exercise 4.1 (🌶️🌶️):** Define a function that receives a string parameter, and returns an integer indicating the count for all the letters of the alphabet that there are in the string. The expected output format is in a **dictionary** with the relevant keys and values. The capital version of a lower case letter is considered to be the same letter.\n",
    "\n",
    "This should sound quite familiar, try to do it without looking at your old code ;)\n",
    "\n",
    "**What is the challenge?**: Don't code 27 times the same line of code, learn how to do things that scale well."
   ]
  },
  {
   "cell_type": "code",
   "execution_count": 8,
   "metadata": {},
   "outputs": [
    {
     "data": {
      "text/plain": [
       "{'a': 3,\n",
       " 't': 3,\n",
       " 'r': 4,\n",
       " 'y': 2,\n",
       " 'i': 4,\n",
       " 'n': 5,\n",
       " 'g': 3,\n",
       " 'h': 1,\n",
       " 'd': 2,\n",
       " 'o': 2,\n",
       " 'l': 1,\n",
       " 'e': 4,\n",
       " 'c': 3,\n",
       " 'v': 1,\n",
       " 'm': 1,\n",
       " 'p': 1}"
      ]
     },
     "execution_count": 8,
     "metadata": {},
     "output_type": "execute_result"
    }
   ],
   "source": [
    "import re\n",
    "\n",
    "exmaple_String = \"trying hard to learn coding!!! ?? : i can give my 100 percent\"\n",
    "\n",
    "def tidyString(s):\n",
    "    #make the string all lower case and remove all the none letter  \n",
    "    l = s.lower()\n",
    "    str2 = re.sub(\"[^A-Za-z]\", \"\", l)\n",
    "    #count the letters and add to dictionary\n",
    "    return letterCount(str2)\n",
    "    \n",
    "def letterCount(s): \n",
    "    d = {'a':0}\n",
    "    for c in s:\n",
    "        if c in d:\n",
    "            d[c] = d[c] + 1\n",
    "        else:\n",
    "            d[c] = 1\n",
    "    return d\n",
    "    \n",
    "tidyString(exmaple_String)"
   ]
  },
  {
   "cell_type": "markdown",
   "metadata": {},
   "source": [
    "**Exercise 5.6 (🌶️🌶️):** A prime number is a positive integer that is dividable by exactly two different numbers, namely 1 and itself. The lowest (and only even) prime number is 2. The first 10 prime numbers are 2, 3, 5, 7, 11, 13, 17, 19, 23, and 29. Write a function that returns a **list off all prime numbers** below a given number.\n",
    "\n",
    "Hint: In a loop where you test the possible dividers of the number, you can conclude that the number is not prime as soon as you encounter a number other than 1 or the number itself that divides it. However, you can *only* conclude that it actually *is* prime after you have tested all possible dividers.\n",
    "\n",
    "**What is the challenge here? You have to try to optimize your code and try to make it work for the highest prime number you can encounter before you run out of memory. For low numbers you should know how to do it already**"
   ]
  },
  {
   "cell_type": "code",
   "execution_count": 2,
   "metadata": {},
   "outputs": [
    {
     "name": "stdout",
     "output_type": "stream",
     "text": [
      "Enter a number: 13\n",
      "13 is a prime number\n"
     ]
    }
   ],
   "source": [
    "num = int(input(\"Enter a number: \"))  \n",
    "  \n",
    "if num > 1:\n",
    "    \n",
    "    for i in range(2,num):  \n",
    "        if (num % i) == 0:  \n",
    "            print(num,\"is not a prime number\")  \n",
    "            print(i,\"times\",num//i,\"is\",num)  \n",
    "            break  \n",
    "    else:  \n",
    "        print(num,\"is a prime number\")  \n",
    "         \n",
    "else:  \n",
    "    print(num,\"is not a prime number\")  "
   ]
  },
  {
   "cell_type": "markdown",
   "metadata": {},
   "source": [
    "**Exercise 5.7 (🌶️🌶️):** Write a function that prints all integers between the parameters `a` and `b` that can be written as the sum of two squares. Produce output in the form of `z = x**2 + y**2`, e.g., `58 = 3**2 + 7**2`. If a number occurs on the list with multiple *different* ways of writing it as the sum of two squares, that is acceptable. "
   ]
  },
  {
   "cell_type": "code",
   "execution_count": 13,
   "metadata": {},
   "outputs": [
    {
     "name": "stdout",
     "output_type": "stream",
     "text": [
      "2 = 1**2 + 1**2\n"
     ]
    }
   ],
   "source": [
    "#Your Code Here\n",
    "def sum_squares(a,b):\n",
    "       for z in range(a,b): \n",
    "        for x in range(b):\n",
    "            for y in range(b):\n",
    "                if (x**2 + y**2) == z:\n",
    "                    print(str(z)+\" = \"+str(x)+\"**2 + \"+str(y)+\"**2\")\n",
    "        return\n",
    " \n",
    "    \n",
    "    \n",
    "    \n",
    "sum_squares(2,10)  \n",
    " \n",
    "  "
   ]
  },
  {
   "cell_type": "code",
   "execution_count": null,
   "metadata": {},
   "outputs": [],
   "source": []
  }
 ],
 "metadata": {
  "kernelspec": {
   "display_name": "Python 3",
   "language": "python",
   "name": "python3"
  },
  "language_info": {
   "codemirror_mode": {
    "name": "ipython",
    "version": 3
   },
   "file_extension": ".py",
   "mimetype": "text/x-python",
   "name": "python",
   "nbconvert_exporter": "python",
   "pygments_lexer": "ipython3",
   "version": "3.7.9"
  }
 },
 "nbformat": 4,
 "nbformat_minor": 4
}
