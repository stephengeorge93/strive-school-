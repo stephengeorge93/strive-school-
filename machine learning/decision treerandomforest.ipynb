{
 "cells": [
  {
   "cell_type": "code",
   "execution_count": 1,
   "id": "stuffed-divorce",
   "metadata": {},
   "outputs": [],
   "source": [
    "import pandas as pd\n",
    "import numpy as np\n",
    "from sklearn import tree\n",
    "from sklearn.datasets import load_iris\n",
    "from sklearn.model_selection import train_test_split\n",
    "import matplotlib.pyplot as plt\n",
    "import seaborn as sns\n",
    "from sklearn.tree import DecisionTreeClassifier\n",
    "\n"
   ]
  },
  {
   "cell_type": "code",
   "execution_count": 2,
   "id": "eight-strip",
   "metadata": {},
   "outputs": [],
   "source": [
    "zoo= pd.read_csv('C:\\\\Users\\\\Win10\\\\Downloads\\\\zoo.data')"
   ]
  },
  {
   "cell_type": "code",
   "execution_count": 13,
   "id": "physical-panic",
   "metadata": {},
   "outputs": [
    {
     "name": "stdout",
     "output_type": "stream",
     "text": [
      "<class 'pandas.core.frame.DataFrame'>\n",
      "RangeIndex: 100 entries, 0 to 99\n",
      "Data columns (total 18 columns):\n",
      " #   Column       Non-Null Count  Dtype \n",
      "---  ------       --------------  ----- \n",
      " 0   animal_name  100 non-null    object\n",
      " 1   hair         100 non-null    int64 \n",
      " 2   feathers     100 non-null    int64 \n",
      " 3   eggs         100 non-null    int64 \n",
      " 4   milk         100 non-null    int64 \n",
      " 5   airborne     100 non-null    int64 \n",
      " 6   quatic       100 non-null    int64 \n",
      " 7   predator     100 non-null    int64 \n",
      " 8   toothed      100 non-null    int64 \n",
      " 9   backbone     100 non-null    int64 \n",
      " 10  breathes     100 non-null    int64 \n",
      " 11  venomous     100 non-null    int64 \n",
      " 12  fins         100 non-null    int64 \n",
      " 13  legs         100 non-null    int64 \n",
      " 14  tail         100 non-null    int64 \n",
      " 15  domestic     100 non-null    int64 \n",
      " 16  catsize      100 non-null    int64 \n",
      " 17  class_type   100 non-null    int64 \n",
      "dtypes: int64(17), object(1)\n",
      "memory usage: 14.2+ KB\n"
     ]
    }
   ],
   "source": [
    "zoo.columns =['animal_name','hair','feathers','eggs','milk','airborne','quatic','predator','toothed','backbone','breathes','venomous','fins','legs','tail','domestic','catsize','class_type']\n",
    "zoo.info()"
   ]
  },
  {
   "cell_type": "code",
   "execution_count": 4,
   "id": "agreed-champion",
   "metadata": {},
   "outputs": [
    {
     "name": "stderr",
     "output_type": "stream",
     "text": [
      "C:\\Users\\Win10\\anaconda3\\envs\\AI\\lib\\site-packages\\seaborn\\_decorators.py:36: FutureWarning: Pass the following variable as a keyword arg: x. From version 0.12, the only valid positional argument will be `data`, and passing other arguments without an explicit keyword will result in an error or misinterpretation.\n",
      "  warnings.warn(\n"
     ]
    },
    {
     "data": {
      "image/png": "[encoded data removed]",
      "text/plain": [
       "<Figure size 432x288 with 1 Axes>"
      ]
     },
     "metadata": {
      "needs_background": "light"
     },
     "output_type": "display_data"
    }
   ],
   "source": [
    "sns.countplot(zoo['class_type'],label=\"Count\",\n",
    "             order = zoo['class_type'].value_counts().index) #sort bars\n",
    "plt.show()"
   ]
  },
  {
   "cell_type": "code",
   "execution_count": 5,
   "id": "lonely-grant",
   "metadata": {},
   "outputs": [],
   "source": [
    "X =zoo.drop(['class_type','animal_name'],axis=1)\n",
    "\n",
    "y=zoo['class_type']\n"
   ]
  },
  {
   "cell_type": "code",
   "execution_count": 6,
   "id": "honey-delaware",
   "metadata": {},
   "outputs": [
    {
     "name": "stdout",
     "output_type": "stream",
     "text": [
      "Accuracy of classifier on test set: 0.95\n"
     ]
    }
   ],
   "source": [
    "X_train, X_test, y_train, y_test = train_test_split(X, y,test_size=0.2,random_state=0)\n",
    "\n",
    "clf = DecisionTreeClassifier().fit(X_train, y_train)\n",
    "\n",
    "pred = clf.predict(X_test)\n",
    "print('Accuracy of classifier on test set: {:.2f}'\n",
    "     .format(clf.score(X_test, y_test)))\n"
   ]
  },
  {
   "cell_type": "code",
   "execution_count": 7,
   "id": "eligible-coordinate",
   "metadata": {},
   "outputs": [
    {
     "data": {
      "text/plain": [
       "[Text(273.92727272727274, 203.85, 'X[3] <= 0.5\\ngini = 0.783\\nsamples = 80\\nvalue = [29, 16, 4, 11, 3, 8, 9]'),\n",
       " Text(243.4909090909091, 176.67000000000002, 'X[1] <= 0.5\\ngini = 0.79\\nsamples = 51\\nvalue = [0, 16, 4, 11, 3, 8, 9]'),\n",
       " Text(213.05454545454546, 149.49, 'X[11] <= 0.5\\ngini = 0.762\\nsamples = 35\\nvalue = [0, 0, 4, 11, 3, 8, 9]'),\n",
       " Text(182.61818181818182, 122.31, 'X[4] <= 0.5\\ngini = 0.705\\nsamples = 24\\nvalue = [0, 0, 4, 0, 3, 8, 9]'),\n",
       " Text(152.1818181818182, 95.13, 'X[8] <= 0.5\\ngini = 0.66\\nsamples = 18\\nvalue = [0, 0, 4, 0, 3, 2, 9]'),\n",
       " Text(91.30909090909091, 67.94999999999999, 'X[6] <= 0.5\\ngini = 0.298\\nsamples = 11\\nvalue = [0, 0, 0, 0, 0, 2, 9]'),\n",
       " Text(60.872727272727275, 40.77000000000001, 'X[12] <= 3.0\\ngini = 0.5\\nsamples = 4\\nvalue = [0, 0, 0, 0, 0, 2, 2]'),\n",
       " Text(30.436363636363637, 13.590000000000003, 'gini = 0.0\\nsamples = 2\\nvalue = [0, 0, 0, 0, 0, 0, 2]'),\n",
       " Text(91.30909090909091, 13.590000000000003, 'gini = 0.0\\nsamples = 2\\nvalue = [0, 0, 0, 0, 0, 2, 0]'),\n",
       " Text(121.74545454545455, 40.77000000000001, 'gini = 0.0\\nsamples = 7\\nvalue = [0, 0, 0, 0, 0, 0, 7]'),\n",
       " Text(213.05454545454546, 67.94999999999999, 'X[5] <= 0.5\\ngini = 0.49\\nsamples = 7\\nvalue = [0, 0, 4, 0, 3, 0, 0]'),\n",
       " Text(182.61818181818182, 40.77000000000001, 'gini = 0.0\\nsamples = 4\\nvalue = [0, 0, 4, 0, 0, 0, 0]'),\n",
       " Text(243.4909090909091, 40.77000000000001, 'gini = 0.0\\nsamples = 3\\nvalue = [0, 0, 0, 0, 3, 0, 0]'),\n",
       " Text(213.05454545454546, 95.13, 'gini = 0.0\\nsamples = 6\\nvalue = [0, 0, 0, 0, 0, 6, 0]'),\n",
       " Text(243.4909090909091, 122.31, 'gini = 0.0\\nsamples = 11\\nvalue = [0, 0, 0, 11, 0, 0, 0]'),\n",
       " Text(273.92727272727274, 149.49, 'gini = 0.0\\nsamples = 16\\nvalue = [0, 16, 0, 0, 0, 0, 0]'),\n",
       " Text(304.3636363636364, 176.67000000000002, 'gini = 0.0\\nsamples = 29\\nvalue = [29, 0, 0, 0, 0, 0, 0]')]"
      ]
     },
     "execution_count": 7,
     "metadata": {},
     "output_type": "execute_result"
    },
    {
     "data": {
      "image/png": "[encoded data removed]",
      "text/plain": [
       "<Figure size 432x288 with 1 Axes>"
      ]
     },
     "metadata": {
      "needs_background": "light"
     },
     "output_type": "display_data"
    }
   ],
   "source": [
    "\n",
    "tree.plot_tree(clf)"
   ]
  },
  {
   "cell_type": "code",
   "execution_count": 8,
   "id": "expired-metallic",
   "metadata": {},
   "outputs": [],
   "source": [
    "import graphviz"
   ]
  },
  {
   "cell_type": "code",
   "execution_count": 10,
   "id": "sacred-ukraine",
   "metadata": {},
   "outputs": [
    {
     "data": {
      "image/svg+xml": [
       "<?xml version=\"1.0\" encoding=\"UTF-8\" standalone=\"no\"?>\r\n",
       "<!DOCTYPE svg PUBLIC \"-//W3C//DTD SVG 1.1//EN\"\r\n",
       " \"http://www.w3.org/Graphics/SVG/1.1/DTD/svg11.dtd\">\r\n",
       "<!-- Generated by graphviz version 2.38.0 (20140413.2041)\r\n",
       " -->\r\n",
       "<!-- Title: Tree Pages: 1 -->\r\n",
       "<svg width=\"1079pt\" height=\"761pt\"\r\n",
       " viewBox=\"0.00 0.00 1079.00 761.00\" xmlns=\"http://www.w3.org/2000/svg\" xmlns:xlink=\"http://www.w3.org/1999/xlink\">\r\n",
       "<g id=\"graph0\" class=\"graph\" transform=\"scale(1 1) rotate(0) translate(4 757)\">\r\n",
       "<title>Tree</title>\r\n",
       "<polygon fill=\"white\" stroke=\"none\" points=\"-4,4 -4,-757 1075,-757 1075,4 -4,4\"/>\r\n",
       "<!-- 0 -->\r\n",
       "<g id=\"node1\" class=\"node\"><title>0</title>\r\n",
       "<path fill=\"#fae5d7\" stroke=\"black\" d=\"M964,-753C964,-753 788,-753 788,-753 782,-753 776,-747 776,-741 776,-741 776,-701 776,-701 776,-695 782,-689 788,-689 788,-689 964,-689 964,-689 970,-689 976,-695 976,-701 976,-701 976,-741 976,-741 976,-747 970,-753 964,-753\"/>\r\n",
       "<text text-anchor=\"start\" x=\"849.5\" y=\"-738.8\" font-family=\"Helvetica,sans-Serif\" font-size=\"14.00\">X</text>\r\n",
       "<text text-anchor=\"start\" x=\"859.5\" y=\"-738.8\" font-family=\"Helvetica,sans-Serif\" baseline-shift=\"sub\" font-size=\"14.00\">3</text>\r\n",
       "<text text-anchor=\"start\" x=\"866.5\" y=\"-738.8\" font-family=\"Helvetica,sans-Serif\" font-size=\"14.00\"> ≤ 0.5</text>\r\n",
       "<text text-anchor=\"start\" x=\"838.5\" y=\"-724.8\" font-family=\"Helvetica,sans-Serif\" font-size=\"14.00\">gini = 0.783</text>\r\n",
       "<text text-anchor=\"start\" x=\"832.5\" y=\"-710.8\" font-family=\"Helvetica,sans-Serif\" font-size=\"14.00\">samples = 80</text>\r\n",
       "<text text-anchor=\"start\" x=\"784\" y=\"-696.8\" font-family=\"Helvetica,sans-Serif\" font-size=\"14.00\">value = [29, 16, 4, 11, 3, 8, 9]</text>\r\n",
       "</g>\r\n",
       "<!-- 1 -->\r\n",
       "<g id=\"node2\" class=\"node\"><title>1</title>\r\n",
       "<path fill=\"#f6fce6\" stroke=\"black\" d=\"M857,-653C857,-653 689,-653 689,-653 683,-653 677,-647 677,-641 677,-641 677,-601 677,-601 677,-595 683,-589 689,-589 689,-589 857,-589 857,-589 863,-589 869,-595 869,-601 869,-601 869,-641 869,-641 869,-647 863,-653 857,-653\"/>\r\n",
       "<text text-anchor=\"start\" x=\"746.5\" y=\"-638.8\" font-family=\"Helvetica,sans-Serif\" font-size=\"14.00\">X</text>\r\n",
       "<text text-anchor=\"start\" x=\"756.5\" y=\"-638.8\" font-family=\"Helvetica,sans-Serif\" baseline-shift=\"sub\" font-size=\"14.00\">1</text>\r\n",
       "<text text-anchor=\"start\" x=\"763.5\" y=\"-638.8\" font-family=\"Helvetica,sans-Serif\" font-size=\"14.00\"> ≤ 0.5</text>\r\n",
       "<text text-anchor=\"start\" x=\"739.5\" y=\"-624.8\" font-family=\"Helvetica,sans-Serif\" font-size=\"14.00\">gini = 0.79</text>\r\n",
       "<text text-anchor=\"start\" x=\"729.5\" y=\"-610.8\" font-family=\"Helvetica,sans-Serif\" font-size=\"14.00\">samples = 51</text>\r\n",
       "<text text-anchor=\"start\" x=\"685\" y=\"-596.8\" font-family=\"Helvetica,sans-Serif\" font-size=\"14.00\">value = [0, 16, 4, 11, 3, 8, 9]</text>\r\n",
       "</g>\r\n",
       "<!-- 0&#45;&gt;1 -->\r\n",
       "<g id=\"edge1\" class=\"edge\"><title>0&#45;&gt;1</title>\r\n",
       "<path fill=\"none\" stroke=\"black\" d=\"M843.41,-688.992C833.829,-679.876 823.234,-669.796 813.235,-660.282\"/>\r\n",
       "<polygon fill=\"black\" stroke=\"black\" points=\"815.389,-657.5 805.731,-653.142 810.564,-662.571 815.389,-657.5\"/>\r\n",
       "<text text-anchor=\"middle\" x=\"806.353\" y=\"-674.435\" font-family=\"Helvetica,sans-Serif\" font-size=\"14.00\">True</text>\r\n",
       "</g>\r\n",
       "<!-- 16 -->\r\n",
       "<g id=\"node17\" class=\"node\"><title>16</title>\r\n",
       "<path fill=\"#e58139\" stroke=\"black\" d=\"M1059,-647.5C1059,-647.5 899,-647.5 899,-647.5 893,-647.5 887,-641.5 887,-635.5 887,-635.5 887,-606.5 887,-606.5 887,-600.5 893,-594.5 899,-594.5 899,-594.5 1059,-594.5 1059,-594.5 1065,-594.5 1071,-600.5 1071,-606.5 1071,-606.5 1071,-635.5 1071,-635.5 1071,-641.5 1065,-647.5 1059,-647.5\"/>\r\n",
       "<text text-anchor=\"start\" x=\"950\" y=\"-632.3\" font-family=\"Helvetica,sans-Serif\" font-size=\"14.00\">gini = 0.0</text>\r\n",
       "<text text-anchor=\"start\" x=\"935.5\" y=\"-617.3\" font-family=\"Helvetica,sans-Serif\" font-size=\"14.00\">samples = 29</text>\r\n",
       "<text text-anchor=\"start\" x=\"895\" y=\"-602.3\" font-family=\"Helvetica,sans-Serif\" font-size=\"14.00\">value = [29, 0, 0, 0, 0, 0, 0]</text>\r\n",
       "</g>\r\n",
       "<!-- 0&#45;&gt;16 -->\r\n",
       "<g id=\"edge16\" class=\"edge\"><title>0&#45;&gt;16</title>\r\n",
       "<path fill=\"none\" stroke=\"black\" d=\"M908.59,-688.992C920.096,-678.044 933.065,-665.705 944.709,-654.627\"/>\r\n",
       "<polygon fill=\"black\" stroke=\"black\" points=\"947.308,-656.985 952.14,-647.556 942.482,-651.914 947.308,-656.985\"/>\r\n",
       "<text text-anchor=\"middle\" x=\"951.518\" y=\"-668.849\" font-family=\"Helvetica,sans-Serif\" font-size=\"14.00\">False</text>\r\n",
       "</g>\r\n",
       "<!-- 2 -->\r\n",
       "<g id=\"node3\" class=\"node\"><title>2</title>\r\n",
       "<path fill=\"#f0fdfd\" stroke=\"black\" d=\"M752,-553C752,-553 592,-553 592,-553 586,-553 580,-547 580,-541 580,-541 580,-501 580,-501 580,-495 586,-489 592,-489 592,-489 752,-489 752,-489 758,-489 764,-495 764,-501 764,-501 764,-541 764,-541 764,-547 758,-553 752,-553\"/>\r\n",
       "<text text-anchor=\"start\" x=\"642\" y=\"-538.8\" font-family=\"Helvetica,sans-Serif\" font-size=\"14.00\">X</text>\r\n",
       "<text text-anchor=\"start\" x=\"652\" y=\"-538.8\" font-family=\"Helvetica,sans-Serif\" baseline-shift=\"sub\" font-size=\"14.00\">11</text>\r\n",
       "<text text-anchor=\"start\" x=\"666\" y=\"-538.8\" font-family=\"Helvetica,sans-Serif\" font-size=\"14.00\"> ≤ 0.5</text>\r\n",
       "<text text-anchor=\"start\" x=\"634.5\" y=\"-524.8\" font-family=\"Helvetica,sans-Serif\" font-size=\"14.00\">gini = 0.762</text>\r\n",
       "<text text-anchor=\"start\" x=\"628.5\" y=\"-510.8\" font-family=\"Helvetica,sans-Serif\" font-size=\"14.00\">samples = 35</text>\r\n",
       "<text text-anchor=\"start\" x=\"588\" y=\"-496.8\" font-family=\"Helvetica,sans-Serif\" font-size=\"14.00\">value = [0, 0, 4, 11, 3, 8, 9]</text>\r\n",
       "</g>\r\n",
       "<!-- 1&#45;&gt;2 -->\r\n",
       "<g id=\"edge2\" class=\"edge\"><title>1&#45;&gt;2</title>\r\n",
       "<path fill=\"none\" stroke=\"black\" d=\"M741.043,-588.992C731.648,-579.876 721.259,-569.796 711.454,-560.282\"/>\r\n",
       "<polygon fill=\"black\" stroke=\"black\" points=\"713.71,-557.594 704.096,-553.142 708.835,-562.618 713.71,-557.594\"/>\r\n",
       "</g>\r\n",
       "<!-- 15 -->\r\n",
       "<g id=\"node16\" class=\"node\"><title>15</title>\r\n",
       "<path fill=\"#b7e539\" stroke=\"black\" d=\"M954,-547.5C954,-547.5 794,-547.5 794,-547.5 788,-547.5 782,-541.5 782,-535.5 782,-535.5 782,-506.5 782,-506.5 782,-500.5 788,-494.5 794,-494.5 794,-494.5 954,-494.5 954,-494.5 960,-494.5 966,-500.5 966,-506.5 966,-506.5 966,-535.5 966,-535.5 966,-541.5 960,-547.5 954,-547.5\"/>\r\n",
       "<text text-anchor=\"start\" x=\"845\" y=\"-532.3\" font-family=\"Helvetica,sans-Serif\" font-size=\"14.00\">gini = 0.0</text>\r\n",
       "<text text-anchor=\"start\" x=\"830.5\" y=\"-517.3\" font-family=\"Helvetica,sans-Serif\" font-size=\"14.00\">samples = 16</text>\r\n",
       "<text text-anchor=\"start\" x=\"790\" y=\"-502.3\" font-family=\"Helvetica,sans-Serif\" font-size=\"14.00\">value = [0, 16, 0, 0, 0, 0, 0]</text>\r\n",
       "</g>\r\n",
       "<!-- 1&#45;&gt;15 -->\r\n",
       "<g id=\"edge15\" class=\"edge\"><title>1&#45;&gt;15</title>\r\n",
       "<path fill=\"none\" stroke=\"black\" d=\"M804.957,-588.992C816.24,-578.044 828.957,-565.705 840.374,-554.627\"/>\r\n",
       "<polygon fill=\"black\" stroke=\"black\" points=\"842.922,-557.032 847.661,-547.556 838.047,-552.008 842.922,-557.032\"/>\r\n",
       "</g>\r\n",
       "<!-- 3 -->\r\n",
       "<g id=\"node4\" class=\"node\"><title>3</title>\r\n",
       "<path fill=\"#fdf3f7\" stroke=\"black\" d=\"M649,-453C649,-453 497,-453 497,-453 491,-453 485,-447 485,-441 485,-441 485,-401 485,-401 485,-395 491,-389 497,-389 497,-389 649,-389 649,-389 655,-389 661,-395 661,-401 661,-401 661,-441 661,-441 661,-447 655,-453 649,-453\"/>\r\n",
       "<text text-anchor=\"start\" x=\"546.5\" y=\"-438.8\" font-family=\"Helvetica,sans-Serif\" font-size=\"14.00\">X</text>\r\n",
       "<text text-anchor=\"start\" x=\"556.5\" y=\"-438.8\" font-family=\"Helvetica,sans-Serif\" baseline-shift=\"sub\" font-size=\"14.00\">4</text>\r\n",
       "<text text-anchor=\"start\" x=\"563.5\" y=\"-438.8\" font-family=\"Helvetica,sans-Serif\" font-size=\"14.00\"> ≤ 0.5</text>\r\n",
       "<text text-anchor=\"start\" x=\"535.5\" y=\"-424.8\" font-family=\"Helvetica,sans-Serif\" font-size=\"14.00\">gini = 0.705</text>\r\n",
       "<text text-anchor=\"start\" x=\"529.5\" y=\"-410.8\" font-family=\"Helvetica,sans-Serif\" font-size=\"14.00\">samples = 24</text>\r\n",
       "<text text-anchor=\"start\" x=\"493\" y=\"-396.8\" font-family=\"Helvetica,sans-Serif\" font-size=\"14.00\">value = [0, 0, 4, 0, 3, 8, 9]</text>\r\n",
       "</g>\r\n",
       "<!-- 2&#45;&gt;3 -->\r\n",
       "<g id=\"edge3\" class=\"edge\"><title>2&#45;&gt;3</title>\r\n",
       "<path fill=\"none\" stroke=\"black\" d=\"M640.676,-488.992C631.467,-479.876 621.283,-469.796 611.673,-460.282\"/>\r\n",
       "<polygon fill=\"black\" stroke=\"black\" points=\"614.029,-457.69 604.46,-453.142 609.105,-462.665 614.029,-457.69\"/>\r\n",
       "</g>\r\n",
       "<!-- 14 -->\r\n",
       "<g id=\"node15\" class=\"node\"><title>14</title>\r\n",
       "<path fill=\"#39e5e2\" stroke=\"black\" d=\"M851,-447.5C851,-447.5 691,-447.5 691,-447.5 685,-447.5 679,-441.5 679,-435.5 679,-435.5 679,-406.5 679,-406.5 679,-400.5 685,-394.5 691,-394.5 691,-394.5 851,-394.5 851,-394.5 857,-394.5 863,-400.5 863,-406.5 863,-406.5 863,-435.5 863,-435.5 863,-441.5 857,-447.5 851,-447.5\"/>\r\n",
       "<text text-anchor=\"start\" x=\"742\" y=\"-432.3\" font-family=\"Helvetica,sans-Serif\" font-size=\"14.00\">gini = 0.0</text>\r\n",
       "<text text-anchor=\"start\" x=\"727.5\" y=\"-417.3\" font-family=\"Helvetica,sans-Serif\" font-size=\"14.00\">samples = 11</text>\r\n",
       "<text text-anchor=\"start\" x=\"687\" y=\"-402.3\" font-family=\"Helvetica,sans-Serif\" font-size=\"14.00\">value = [0, 0, 0, 11, 0, 0, 0]</text>\r\n",
       "</g>\r\n",
       "<!-- 2&#45;&gt;14 -->\r\n",
       "<g id=\"edge14\" class=\"edge\"><title>2&#45;&gt;14</title>\r\n",
       "<path fill=\"none\" stroke=\"black\" d=\"M703.324,-488.992C714.384,-478.044 726.849,-465.705 738.04,-454.627\"/>\r\n",
       "<polygon fill=\"black\" stroke=\"black\" points=\"740.538,-457.079 745.183,-447.556 735.614,-452.104 740.538,-457.079\"/>\r\n",
       "</g>\r\n",
       "<!-- 4 -->\r\n",
       "<g id=\"node5\" class=\"node\"><title>4</title>\r\n",
       "<path fill=\"#f6b8d4\" stroke=\"black\" d=\"M552,-353C552,-353 400,-353 400,-353 394,-353 388,-347 388,-341 388,-341 388,-301 388,-301 388,-295 394,-289 400,-289 400,-289 552,-289 552,-289 558,-289 564,-295 564,-301 564,-301 564,-341 564,-341 564,-347 558,-353 552,-353\"/>\r\n",
       "<text text-anchor=\"start\" x=\"449.5\" y=\"-338.8\" font-family=\"Helvetica,sans-Serif\" font-size=\"14.00\">X</text>\r\n",
       "<text text-anchor=\"start\" x=\"459.5\" y=\"-338.8\" font-family=\"Helvetica,sans-Serif\" baseline-shift=\"sub\" font-size=\"14.00\">8</text>\r\n",
       "<text text-anchor=\"start\" x=\"466.5\" y=\"-338.8\" font-family=\"Helvetica,sans-Serif\" font-size=\"14.00\"> ≤ 0.5</text>\r\n",
       "<text text-anchor=\"start\" x=\"442.5\" y=\"-324.8\" font-family=\"Helvetica,sans-Serif\" font-size=\"14.00\">gini = 0.66</text>\r\n",
       "<text text-anchor=\"start\" x=\"432.5\" y=\"-310.8\" font-family=\"Helvetica,sans-Serif\" font-size=\"14.00\">samples = 18</text>\r\n",
       "<text text-anchor=\"start\" x=\"396\" y=\"-296.8\" font-family=\"Helvetica,sans-Serif\" font-size=\"14.00\">value = [0, 0, 4, 0, 3, 2, 9]</text>\r\n",
       "</g>\r\n",
       "<!-- 3&#45;&gt;4 -->\r\n",
       "<g id=\"edge4\" class=\"edge\"><title>3&#45;&gt;4</title>\r\n",
       "<path fill=\"none\" stroke=\"black\" d=\"M542.309,-388.992C533.286,-379.876 523.308,-369.796 513.891,-360.282\"/>\r\n",
       "<polygon fill=\"black\" stroke=\"black\" points=\"516.347,-357.788 506.825,-353.142 511.372,-362.712 516.347,-357.788\"/>\r\n",
       "</g>\r\n",
       "<!-- 13 -->\r\n",
       "<g id=\"node14\" class=\"node\"><title>13</title>\r\n",
       "<path fill=\"#b139e5\" stroke=\"black\" d=\"M746,-347.5C746,-347.5 594,-347.5 594,-347.5 588,-347.5 582,-341.5 582,-335.5 582,-335.5 582,-306.5 582,-306.5 582,-300.5 588,-294.5 594,-294.5 594,-294.5 746,-294.5 746,-294.5 752,-294.5 758,-300.5 758,-306.5 758,-306.5 758,-335.5 758,-335.5 758,-341.5 752,-347.5 746,-347.5\"/>\r\n",
       "<text text-anchor=\"start\" x=\"641\" y=\"-332.3\" font-family=\"Helvetica,sans-Serif\" font-size=\"14.00\">gini = 0.0</text>\r\n",
       "<text text-anchor=\"start\" x=\"630.5\" y=\"-317.3\" font-family=\"Helvetica,sans-Serif\" font-size=\"14.00\">samples = 6</text>\r\n",
       "<text text-anchor=\"start\" x=\"590\" y=\"-302.3\" font-family=\"Helvetica,sans-Serif\" font-size=\"14.00\">value = [0, 0, 0, 0, 0, 6, 0]</text>\r\n",
       "</g>\r\n",
       "<!-- 3&#45;&gt;13 -->\r\n",
       "<g id=\"edge13\" class=\"edge\"><title>3&#45;&gt;13</title>\r\n",
       "<path fill=\"none\" stroke=\"black\" d=\"M603.691,-388.992C614.424,-378.148 626.509,-365.94 637.393,-354.944\"/>\r\n",
       "<polygon fill=\"black\" stroke=\"black\" points=\"640.157,-357.126 644.704,-347.556 635.182,-352.202 640.157,-357.126\"/>\r\n",
       "</g>\r\n",
       "<!-- 5 -->\r\n",
       "<g id=\"node6\" class=\"node\"><title>5</title>\r\n",
       "<path fill=\"#eb65a1\" stroke=\"black\" d=\"M455,-253C455,-253 303,-253 303,-253 297,-253 291,-247 291,-241 291,-241 291,-201 291,-201 291,-195 297,-189 303,-189 303,-189 455,-189 455,-189 461,-189 467,-195 467,-201 467,-201 467,-241 467,-241 467,-247 461,-253 455,-253\"/>\r\n",
       "<text text-anchor=\"start\" x=\"352.5\" y=\"-238.8\" font-family=\"Helvetica,sans-Serif\" font-size=\"14.00\">X</text>\r\n",
       "<text text-anchor=\"start\" x=\"362.5\" y=\"-238.8\" font-family=\"Helvetica,sans-Serif\" baseline-shift=\"sub\" font-size=\"14.00\">6</text>\r\n",
       "<text text-anchor=\"start\" x=\"369.5\" y=\"-238.8\" font-family=\"Helvetica,sans-Serif\" font-size=\"14.00\"> ≤ 0.5</text>\r\n",
       "<text text-anchor=\"start\" x=\"341.5\" y=\"-224.8\" font-family=\"Helvetica,sans-Serif\" font-size=\"14.00\">gini = 0.298</text>\r\n",
       "<text text-anchor=\"start\" x=\"335.5\" y=\"-210.8\" font-family=\"Helvetica,sans-Serif\" font-size=\"14.00\">samples = 11</text>\r\n",
       "<text text-anchor=\"start\" x=\"299\" y=\"-196.8\" font-family=\"Helvetica,sans-Serif\" font-size=\"14.00\">value = [0, 0, 0, 0, 0, 2, 9]</text>\r\n",
       "</g>\r\n",
       "<!-- 4&#45;&gt;5 -->\r\n",
       "<g id=\"edge5\" class=\"edge\"><title>4&#45;&gt;5</title>\r\n",
       "<path fill=\"none\" stroke=\"black\" d=\"M445.309,-288.992C436.286,-279.876 426.308,-269.796 416.891,-260.282\"/>\r\n",
       "<polygon fill=\"black\" stroke=\"black\" points=\"419.347,-257.788 409.825,-253.142 414.372,-262.712 419.347,-257.788\"/>\r\n",
       "</g>\r\n",
       "<!-- 10 -->\r\n",
       "<g id=\"node11\" class=\"node\"><title>10</title>\r\n",
       "<path fill=\"#cef8d2\" stroke=\"black\" d=\"M649,-253C649,-253 497,-253 497,-253 491,-253 485,-247 485,-241 485,-241 485,-201 485,-201 485,-195 491,-189 497,-189 497,-189 649,-189 649,-189 655,-189 661,-195 661,-201 661,-201 661,-241 661,-241 661,-247 655,-253 649,-253\"/>\r\n",
       "<text text-anchor=\"start\" x=\"546.5\" y=\"-238.8\" font-family=\"Helvetica,sans-Serif\" font-size=\"14.00\">X</text>\r\n",
       "<text text-anchor=\"start\" x=\"556.5\" y=\"-238.8\" font-family=\"Helvetica,sans-Serif\" baseline-shift=\"sub\" font-size=\"14.00\">5</text>\r\n",
       "<text text-anchor=\"start\" x=\"563.5\" y=\"-238.8\" font-family=\"Helvetica,sans-Serif\" font-size=\"14.00\"> ≤ 0.5</text>\r\n",
       "<text text-anchor=\"start\" x=\"539.5\" y=\"-224.8\" font-family=\"Helvetica,sans-Serif\" font-size=\"14.00\">gini = 0.49</text>\r\n",
       "<text text-anchor=\"start\" x=\"533.5\" y=\"-210.8\" font-family=\"Helvetica,sans-Serif\" font-size=\"14.00\">samples = 7</text>\r\n",
       "<text text-anchor=\"start\" x=\"493\" y=\"-196.8\" font-family=\"Helvetica,sans-Serif\" font-size=\"14.00\">value = [0, 0, 4, 0, 3, 0, 0]</text>\r\n",
       "</g>\r\n",
       "<!-- 4&#45;&gt;10 -->\r\n",
       "<g id=\"edge10\" class=\"edge\"><title>4&#45;&gt;10</title>\r\n",
       "<path fill=\"none\" stroke=\"black\" d=\"M506.691,-288.992C515.714,-279.876 525.692,-269.796 535.109,-260.282\"/>\r\n",
       "<polygon fill=\"black\" stroke=\"black\" points=\"537.628,-262.712 542.175,-253.142 532.653,-257.788 537.628,-262.712\"/>\r\n",
       "</g>\r\n",
       "<!-- 6 -->\r\n",
       "<g id=\"node7\" class=\"node\"><title>6</title>\r\n",
       "<path fill=\"#ffffff\" stroke=\"black\" d=\"M261,-153C261,-153 109,-153 109,-153 103,-153 97,-147 97,-141 97,-141 97,-101 97,-101 97,-95 103,-89 109,-89 109,-89 261,-89 261,-89 267,-89 273,-95 273,-101 273,-101 273,-141 273,-141 273,-147 267,-153 261,-153\"/>\r\n",
       "<text text-anchor=\"start\" x=\"155\" y=\"-138.8\" font-family=\"Helvetica,sans-Serif\" font-size=\"14.00\">X</text>\r\n",
       "<text text-anchor=\"start\" x=\"165\" y=\"-138.8\" font-family=\"Helvetica,sans-Serif\" baseline-shift=\"sub\" font-size=\"14.00\">12</text>\r\n",
       "<text text-anchor=\"start\" x=\"179\" y=\"-138.8\" font-family=\"Helvetica,sans-Serif\" font-size=\"14.00\"> ≤ 3.0</text>\r\n",
       "<text text-anchor=\"start\" x=\"156\" y=\"-124.8\" font-family=\"Helvetica,sans-Serif\" font-size=\"14.00\">gini = 0.5</text>\r\n",
       "<text text-anchor=\"start\" x=\"145.5\" y=\"-110.8\" font-family=\"Helvetica,sans-Serif\" font-size=\"14.00\">samples = 4</text>\r\n",
       "<text text-anchor=\"start\" x=\"105\" y=\"-96.8\" font-family=\"Helvetica,sans-Serif\" font-size=\"14.00\">value = [0, 0, 0, 0, 0, 2, 2]</text>\r\n",
       "</g>\r\n",
       "<!-- 5&#45;&gt;6 -->\r\n",
       "<g id=\"edge6\" class=\"edge\"><title>5&#45;&gt;6</title>\r\n",
       "<path fill=\"none\" stroke=\"black\" d=\"M317.617,-188.992C297.979,-179.072 276.08,-168.009 255.825,-157.778\"/>\r\n",
       "<polygon fill=\"black\" stroke=\"black\" points=\"257.153,-154.527 246.649,-153.142 253.997,-160.775 257.153,-154.527\"/>\r\n",
       "</g>\r\n",
       "<!-- 9 -->\r\n",
       "<g id=\"node10\" class=\"node\"><title>9</title>\r\n",
       "<path fill=\"#e53986\" stroke=\"black\" d=\"M455,-147.5C455,-147.5 303,-147.5 303,-147.5 297,-147.5 291,-141.5 291,-135.5 291,-135.5 291,-106.5 291,-106.5 291,-100.5 297,-94.5 303,-94.5 303,-94.5 455,-94.5 455,-94.5 461,-94.5 467,-100.5 467,-106.5 467,-106.5 467,-135.5 467,-135.5 467,-141.5 461,-147.5 455,-147.5\"/>\r\n",
       "<text text-anchor=\"start\" x=\"350\" y=\"-132.3\" font-family=\"Helvetica,sans-Serif\" font-size=\"14.00\">gini = 0.0</text>\r\n",
       "<text text-anchor=\"start\" x=\"339.5\" y=\"-117.3\" font-family=\"Helvetica,sans-Serif\" font-size=\"14.00\">samples = 7</text>\r\n",
       "<text text-anchor=\"start\" x=\"299\" y=\"-102.3\" font-family=\"Helvetica,sans-Serif\" font-size=\"14.00\">value = [0, 0, 0, 0, 0, 0, 7]</text>\r\n",
       "</g>\r\n",
       "<!-- 5&#45;&gt;9 -->\r\n",
       "<g id=\"edge9\" class=\"edge\"><title>5&#45;&gt;9</title>\r\n",
       "<path fill=\"none\" stroke=\"black\" d=\"M379,-188.992C379,-179.087 379,-168.042 379,-157.824\"/>\r\n",
       "<polygon fill=\"black\" stroke=\"black\" points=\"382.5,-157.556 379,-147.556 375.5,-157.556 382.5,-157.556\"/>\r\n",
       "</g>\r\n",
       "<!-- 7 -->\r\n",
       "<g id=\"node8\" class=\"node\"><title>7</title>\r\n",
       "<path fill=\"#e53986\" stroke=\"black\" d=\"M164,-53C164,-53 12,-53 12,-53 6,-53 0,-47 0,-41 0,-41 0,-12 0,-12 0,-6 6,-0 12,-0 12,-0 164,-0 164,-0 170,-0 176,-6 176,-12 176,-12 176,-41 176,-41 176,-47 170,-53 164,-53\"/>\r\n",
       "<text text-anchor=\"start\" x=\"59\" y=\"-37.8\" font-family=\"Helvetica,sans-Serif\" font-size=\"14.00\">gini = 0.0</text>\r\n",
       "<text text-anchor=\"start\" x=\"48.5\" y=\"-22.8\" font-family=\"Helvetica,sans-Serif\" font-size=\"14.00\">samples = 2</text>\r\n",
       "<text text-anchor=\"start\" x=\"8\" y=\"-7.8\" font-family=\"Helvetica,sans-Serif\" font-size=\"14.00\">value = [0, 0, 0, 0, 0, 0, 2]</text>\r\n",
       "</g>\r\n",
       "<!-- 6&#45;&gt;7 -->\r\n",
       "<g id=\"edge7\" class=\"edge\"><title>6&#45;&gt;7</title>\r\n",
       "<path fill=\"none\" stroke=\"black\" d=\"M152.431,-88.9415C142.694,-79.6566 131.994,-69.4528 122.158,-60.0736\"/>\r\n",
       "<polygon fill=\"black\" stroke=\"black\" points=\"124.488,-57.4591 114.836,-53.0908 119.657,-62.525 124.488,-57.4591\"/>\r\n",
       "</g>\r\n",
       "<!-- 8 -->\r\n",
       "<g id=\"node9\" class=\"node\"><title>8</title>\r\n",
       "<path fill=\"#b139e5\" stroke=\"black\" d=\"M358,-53C358,-53 206,-53 206,-53 200,-53 194,-47 194,-41 194,-41 194,-12 194,-12 194,-6 200,-0 206,-0 206,-0 358,-0 358,-0 364,-0 370,-6 370,-12 370,-12 370,-41 370,-41 370,-47 364,-53 358,-53\"/>\r\n",
       "<text text-anchor=\"start\" x=\"253\" y=\"-37.8\" font-family=\"Helvetica,sans-Serif\" font-size=\"14.00\">gini = 0.0</text>\r\n",
       "<text text-anchor=\"start\" x=\"242.5\" y=\"-22.8\" font-family=\"Helvetica,sans-Serif\" font-size=\"14.00\">samples = 2</text>\r\n",
       "<text text-anchor=\"start\" x=\"202\" y=\"-7.8\" font-family=\"Helvetica,sans-Serif\" font-size=\"14.00\">value = [0, 0, 0, 0, 0, 2, 0]</text>\r\n",
       "</g>\r\n",
       "<!-- 6&#45;&gt;8 -->\r\n",
       "<g id=\"edge8\" class=\"edge\"><title>6&#45;&gt;8</title>\r\n",
       "<path fill=\"none\" stroke=\"black\" d=\"M217.569,-88.9415C227.306,-79.6566 238.006,-69.4528 247.842,-60.0736\"/>\r\n",
       "<polygon fill=\"black\" stroke=\"black\" points=\"250.343,-62.525 255.164,-53.0908 245.512,-57.4591 250.343,-62.525\"/>\r\n",
       "</g>\r\n",
       "<!-- 11 -->\r\n",
       "<g id=\"node12\" class=\"node\"><title>11</title>\r\n",
       "<path fill=\"#39e54d\" stroke=\"black\" d=\"M649,-147.5C649,-147.5 497,-147.5 497,-147.5 491,-147.5 485,-141.5 485,-135.5 485,-135.5 485,-106.5 485,-106.5 485,-100.5 491,-94.5 497,-94.5 497,-94.5 649,-94.5 649,-94.5 655,-94.5 661,-100.5 661,-106.5 661,-106.5 661,-135.5 661,-135.5 661,-141.5 655,-147.5 649,-147.5\"/>\r\n",
       "<text text-anchor=\"start\" x=\"544\" y=\"-132.3\" font-family=\"Helvetica,sans-Serif\" font-size=\"14.00\">gini = 0.0</text>\r\n",
       "<text text-anchor=\"start\" x=\"533.5\" y=\"-117.3\" font-family=\"Helvetica,sans-Serif\" font-size=\"14.00\">samples = 4</text>\r\n",
       "<text text-anchor=\"start\" x=\"493\" y=\"-102.3\" font-family=\"Helvetica,sans-Serif\" font-size=\"14.00\">value = [0, 0, 4, 0, 0, 0, 0]</text>\r\n",
       "</g>\r\n",
       "<!-- 10&#45;&gt;11 -->\r\n",
       "<g id=\"edge11\" class=\"edge\"><title>10&#45;&gt;11</title>\r\n",
       "<path fill=\"none\" stroke=\"black\" d=\"M573,-188.992C573,-179.087 573,-168.042 573,-157.824\"/>\r\n",
       "<polygon fill=\"black\" stroke=\"black\" points=\"576.5,-157.556 573,-147.556 569.5,-157.556 576.5,-157.556\"/>\r\n",
       "</g>\r\n",
       "<!-- 12 -->\r\n",
       "<g id=\"node13\" class=\"node\"><title>12</title>\r\n",
       "<path fill=\"#3956e5\" stroke=\"black\" d=\"M843,-147.5C843,-147.5 691,-147.5 691,-147.5 685,-147.5 679,-141.5 679,-135.5 679,-135.5 679,-106.5 679,-106.5 679,-100.5 685,-94.5 691,-94.5 691,-94.5 843,-94.5 843,-94.5 849,-94.5 855,-100.5 855,-106.5 855,-106.5 855,-135.5 855,-135.5 855,-141.5 849,-147.5 843,-147.5\"/>\r\n",
       "<text text-anchor=\"start\" x=\"738\" y=\"-132.3\" font-family=\"Helvetica,sans-Serif\" font-size=\"14.00\">gini = 0.0</text>\r\n",
       "<text text-anchor=\"start\" x=\"727.5\" y=\"-117.3\" font-family=\"Helvetica,sans-Serif\" font-size=\"14.00\">samples = 3</text>\r\n",
       "<text text-anchor=\"start\" x=\"687\" y=\"-102.3\" font-family=\"Helvetica,sans-Serif\" font-size=\"14.00\">value = [0, 0, 0, 0, 3, 0, 0]</text>\r\n",
       "</g>\r\n",
       "<!-- 10&#45;&gt;12 -->\r\n",
       "<g id=\"edge12\" class=\"edge\"><title>10&#45;&gt;12</title>\r\n",
       "<path fill=\"none\" stroke=\"black\" d=\"M634.383,-188.992C657.707,-177.21 684.221,-163.816 707.379,-152.118\"/>\r\n",
       "<polygon fill=\"black\" stroke=\"black\" points=\"709.061,-155.189 716.409,-147.556 705.905,-148.941 709.061,-155.189\"/>\r\n",
       "</g>\r\n",
       "</g>\r\n",
       "</svg>\r\n"
      ],
      "text/plain": [
       "<graphviz.files.Source at 0x1872d709bb0>"
      ]
     },
     "execution_count": 10,
     "metadata": {},
     "output_type": "execute_result"
    }
   ],
   "source": [
    "dot_data = tree.export_graphviz(clf, out_file=None, \n",
    "                      filled=True, rounded=True,  \n",
    "                      special_characters=True)  \n",
    "graph = graphviz.Source(dot_data)  \n",
    "graph "
   ]
  },
  {
   "cell_type": "code",
   "execution_count": 11,
   "id": "universal-moisture",
   "metadata": {},
   "outputs": [
    {
     "name": "stdout",
     "output_type": "stream",
     "text": [
      "Accuracy of classifier on test set: 0.95\n"
     ]
    }
   ],
   "source": [
    "from sklearn.ensemble import RandomForestClassifier\n",
    "\n",
    "clf=RandomForestClassifier().fit(X_train, y_train)\n",
    "\n",
    "pred = clf.predict(X_test)\n",
    "print('Accuracy of classifier on test set: {:.2f}'\n",
    "     .format(clf.score(X_test,y_test)))"
   ]
  }
 ],
 "metadata": {
  "kernelspec": {
   "display_name": "Python 3",
   "language": "python",
   "name": "python3"
  },
  "language_info": {
   "codemirror_mode": {
    "name": "ipython",
    "version": 3
   },
   "file_extension": ".py",
   "mimetype": "text/x-python",
   "name": "python",
   "nbconvert_exporter": "python",
   "pygments_lexer": "ipython3",
   "version": "3.8.8"
  }
 },
 "nbformat": 4,
 "nbformat_minor": 5
}
