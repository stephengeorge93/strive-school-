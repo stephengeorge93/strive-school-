{
 "cells": [
  {
   "cell_type": "markdown",
   "metadata": {
    "deletable": false,
    "editable": false,
    "nbgrader": {
     "cell_type": "markdown",
     "checksum": "fbfaeccba7c78624daa81efaeac3384d",
     "grade": false,
     "grade_id": "cell-9bac3e2eaf76d09a",
     "locked": true,
     "schema_version": 3,
     "solution": false,
     "task": false
    }
   },
   "source": [
    "# Linear Regression From Scratch\n",
    "In this notebook you will implement linear regression using the least squares method.\n",
    "\n",
    "The notebook will guide you in the general steps. You may use only numpy, pandas, and matplotlib for this exercise.\n",
    "\n",
    "#### Math Background\n",
    "The task is to solve linear regression for the data set of ```x``` and ```y```. That is, fit a line y to the data such that ```y = a + bx + e```. Where a and b are coefficents and e is an error term.\n",
    "\n",
    "We know that ```b = SUM ( xi - x_mean) * (yi - y_mean) / SUM (xi - x_mean)^2``` where ```xi```, and ```yi``` are the indivdual observations and ```x_mean```, ```y_mean``` are means of all ```xi``` and ```yi```.\n",
    "\n",
    "So a reasonable solution then for a fit is ```a = y_mean - b * x_mean```.\n",
    "\n",
    "\n",
    "#### Implementation Steps\n",
    "1. Load the file ```reg_data.csv```\n",
    "2. Display the data with a scatter plot. Write a markdown cell and comment on the structure of the data and what kind of line you think will fit the data. \n",
    "3. Implement a function of the least squares method.\n",
    "4. Plot the predictions from your function.\n",
    "5. Comment on the output of your function. Does it make sense? Can it be made better? If yes, how?"
   ]
  },
  {
   "cell_type": "code",
   "execution_count": 2,
   "metadata": {},
   "outputs": [],
   "source": [
    "#import the minimum packages\n",
    "import numpy as np\n",
    "import pandas as pd\n",
    "import matplotlib.pyplot as plt\n",
    "from sklearn.model_selection import train_test_split"
   ]
  },
  {
   "cell_type": "code",
   "execution_count": 5,
   "metadata": {
    "deletable": false,
    "nbgrader": {
     "cell_type": "code",
     "checksum": "2c551326ada620ac865e47a09cfd6e88",
     "grade": false,
     "grade_id": "cell-4104816f50e4844b",
     "locked": false,
     "schema_version": 3,
     "solution": true,
     "task": false
    }
   },
   "outputs": [
    {
     "data": {
      "text/html": [
       "<div>\n",
       "<style scoped>\n",
       "    .dataframe tbody tr th:only-of-type {\n",
       "        vertical-align: middle;\n",
       "    }\n",
       "\n",
       "    .dataframe tbody tr th {\n",
       "        vertical-align: top;\n",
       "    }\n",
       "\n",
       "    .dataframe thead th {\n",
       "        text-align: right;\n",
       "    }\n",
       "</style>\n",
       "<table border=\"1\" class=\"dataframe\">\n",
       "  <thead>\n",
       "    <tr style=\"text-align: right;\">\n",
       "      <th></th>\n",
       "      <th>X</th>\n",
       "      <th>Y</th>\n",
       "    </tr>\n",
       "  </thead>\n",
       "  <tbody>\n",
       "    <tr>\n",
       "      <th>0</th>\n",
       "      <td>32.502345</td>\n",
       "      <td>31.707006</td>\n",
       "    </tr>\n",
       "    <tr>\n",
       "      <th>1</th>\n",
       "      <td>53.426804</td>\n",
       "      <td>68.777596</td>\n",
       "    </tr>\n",
       "    <tr>\n",
       "      <th>2</th>\n",
       "      <td>61.530358</td>\n",
       "      <td>62.562382</td>\n",
       "    </tr>\n",
       "    <tr>\n",
       "      <th>3</th>\n",
       "      <td>47.475640</td>\n",
       "      <td>71.546632</td>\n",
       "    </tr>\n",
       "    <tr>\n",
       "      <th>4</th>\n",
       "      <td>59.813208</td>\n",
       "      <td>87.230925</td>\n",
       "    </tr>\n",
       "    <tr>\n",
       "      <th>...</th>\n",
       "      <td>...</td>\n",
       "      <td>...</td>\n",
       "    </tr>\n",
       "    <tr>\n",
       "      <th>95</th>\n",
       "      <td>50.030174</td>\n",
       "      <td>81.536991</td>\n",
       "    </tr>\n",
       "    <tr>\n",
       "      <th>96</th>\n",
       "      <td>49.239765</td>\n",
       "      <td>72.111832</td>\n",
       "    </tr>\n",
       "    <tr>\n",
       "      <th>97</th>\n",
       "      <td>50.039576</td>\n",
       "      <td>85.232007</td>\n",
       "    </tr>\n",
       "    <tr>\n",
       "      <th>98</th>\n",
       "      <td>48.149859</td>\n",
       "      <td>66.224958</td>\n",
       "    </tr>\n",
       "    <tr>\n",
       "      <th>99</th>\n",
       "      <td>25.128485</td>\n",
       "      <td>53.454394</td>\n",
       "    </tr>\n",
       "  </tbody>\n",
       "</table>\n",
       "<p>100 rows × 2 columns</p>\n",
       "</div>"
      ],
      "text/plain": [
       "            X          Y\n",
       "0   32.502345  31.707006\n",
       "1   53.426804  68.777596\n",
       "2   61.530358  62.562382\n",
       "3   47.475640  71.546632\n",
       "4   59.813208  87.230925\n",
       "..        ...        ...\n",
       "95  50.030174  81.536991\n",
       "96  49.239765  72.111832\n",
       "97  50.039576  85.232007\n",
       "98  48.149859  66.224958\n",
       "99  25.128485  53.454394\n",
       "\n",
       "[100 rows x 2 columns]"
      ]
     },
     "execution_count": 5,
     "metadata": {},
     "output_type": "execute_result"
    }
   ],
   "source": [
    "#load and inspect the data\n",
    "df = pd.read_csv('reg_data.csv')\n",
    "df.head(5)\n",
    "\n"
   ]
  },
  {
   "cell_type": "code",
   "execution_count": 6,
   "metadata": {
    "deletable": false,
    "editable": false,
    "nbgrader": {
     "cell_type": "code",
     "checksum": "5a44bd6c555f034b17e8b48663c46fbf",
     "grade": true,
     "grade_id": "cell-3676b87d8fc79bbd",
     "locked": true,
     "points": 1,
     "schema_version": 3,
     "solution": false,
     "task": false
    }
   },
   "outputs": [],
   "source": [
    "assert df.shape == (100,2)"
   ]
  },
  {
   "cell_type": "code",
   "execution_count": 134,
   "metadata": {
    "deletable": false,
    "nbgrader": {
     "cell_type": "code",
     "checksum": "ec83d674d316f06d99e4a62881fe0d91",
     "grade": false,
     "grade_id": "cell-7f576e50392bc5e9",
     "locked": false,
     "schema_version": 3,
     "solution": true,
     "task": false
    }
   },
   "outputs": [
    {
     "data": {
      "image/png": "[encoded data removed]",
      "text/plain": [
       "<Figure size 864x576 with 1 Axes>"
      ]
     },
     "metadata": {
      "needs_background": "light"
     },
     "output_type": "display_data"
    }
   ],
   "source": [
    "#plot the data (scatter)\n",
    "# YOUR CODE HERE\n",
    "plt.figure(figsize = (12, 8))\n",
    "plt.plot([30,65],[40,100], color=\"orange\", label=\"prediction\")\n",
    "plt.scatter(df.X,df.Y,alpha =1)\n",
    "plt.show()\n",
    "#raise NotImplementedError()"
   ]
  },
  {
   "cell_type": "code",
   "execution_count": null,
   "metadata": {},
   "outputs": [],
   "source": []
  },
  {
   "cell_type": "code",
   "execution_count": 123,
   "metadata": {
    "deletable": false,
    "nbgrader": {
     "cell_type": "code",
     "checksum": "d16bf3084328cb8a753640746109deb6",
     "grade": false,
     "grade_id": "cell-54891567ed3179cb",
     "locked": false,
     "schema_version": 3,
     "solution": true,
     "task": false
    }
   },
   "outputs": [],
   "source": [
    "# YOUR CODE HERE\n",
    "x_train, x_test, y_train, y_test = train_test_split(df.X, df.Y, random_state = 0, test_size=0.2)\n",
    " \n",
    "\n",
    "#raise NotImplementedError()"
   ]
  },
  {
   "cell_type": "code",
   "execution_count": 124,
   "metadata": {
    "deletable": false,
    "editable": false,
    "nbgrader": {
     "cell_type": "code",
     "checksum": "913a83d14800f18572c1736c6c376038",
     "grade": true,
     "grade_id": "cell-161d857ab77810d3",
     "locked": true,
     "points": 1,
     "schema_version": 3,
     "solution": false,
     "task": false
    }
   },
   "outputs": [],
   "source": [
    "assert x_train.shape == (80,)\n",
    "assert x_test.shape == (20,)\n",
    "assert y_train.shape == (80,)\n",
    "assert y_test.shape == (20,)"
   ]
  },
  {
   "cell_type": "code",
   "execution_count": 129,
   "metadata": {},
   "outputs": [
    {
     "name": "stdout",
     "output_type": "stream",
     "text": [
      "6.782363909337477\n",
      "1.346401588531577\n"
     ]
    }
   ],
   "source": [
    "x_mean = np.mean(x_train)\n",
    "y_mean = np.mean(y_train)\n",
    "b_upper = 0\n",
    "b_lower = 0\n",
    "\n",
    "for i in range(x_train.shape[0]):\n",
    "    b_upper += (x_train.values[i] - x_mean)*(y_train.values[i] - y_mean)\n",
    "    b_lower += (x_train.values[i] - x_mean)**2\n",
    "\n",
    "b = b_upper / b_lower\n",
    "\n",
    "a = y_mean - b*x_mean\n",
    "print(a)\n",
    "print(b)"
   ]
  },
  {
   "cell_type": "code",
   "execution_count": 136,
   "metadata": {},
   "outputs": [
    {
     "data": {
      "image/png": "[encoded data removed]",
      "text/plain": [
       "<Figure size 432x288 with 1 Axes>"
      ]
     },
     "metadata": {
      "needs_background": "light"
     },
     "output_type": "display_data"
    }
   ],
   "source": [
    "rang=np.arange(0,100)\n",
    "y =a+b*x\n",
    "plt.plot(y)\n",
    "plt.scatter(x_train,y_train)\n",
    "plt.show()"
   ]
  },
  {
   "cell_type": "code",
   "execution_count": 113,
   "metadata": {},
   "outputs": [
    {
     "data": {
      "text/plain": [
       "array([40.22557165, 40.82776146, 41.42995127, 42.03214107, 42.63433088,\n",
       "       43.23652068, 43.83871049, 44.4409003 , 45.0430901 , 45.64527991,\n",
       "       46.24746972, 46.84965952, 47.45184933, 48.05403913, 48.65622894,\n",
       "       49.25841875, 49.86060855, 50.46279836, 51.06498817, 51.66717797,\n",
       "       52.26936778, 52.87155758, 53.47374739, 54.0759372 , 54.678127  ,\n",
       "       55.28031681, 55.88250661, 56.48469642, 57.08688623, 57.68907603,\n",
       "       58.29126584, 58.89345565, 59.49564545, 60.09783526, 60.70002506,\n",
       "       61.30221487, 61.90440468, 62.50659448, 63.10878429, 63.71097409,\n",
       "       64.3131639 , 64.91535371, 65.51754351, 66.11973332, 66.72192313,\n",
       "       67.32411293, 67.92630274, 68.52849254, 69.13068235, 69.73287216,\n",
       "       70.33506196, 70.93725177, 71.53944157, 72.14163138, 72.74382119,\n",
       "       73.34601099, 73.9482008 , 74.55039061, 75.15258041, 75.75477022,\n",
       "       76.35696002, 76.95914983, 77.56133964, 78.16352944, 78.76571925,\n",
       "       79.36790905, 79.97009886, 80.57228867, 81.17447847, 81.77666828,\n",
       "       82.37885809, 82.98104789, 83.5832377 , 84.1854275 , 84.78761731,\n",
       "       85.38980712, 85.99199692, 86.59418673, 87.19637653, 87.79856634,\n",
       "       88.40075615, 89.00294595, 89.60513576, 90.20732557, 90.80951537,\n",
       "       91.41170518, 92.01389498, 92.61608479, 93.2182746 , 93.8204644 ,\n",
       "       94.42265421, 95.02484402, 95.62703382, 96.22922363, 96.83141343,\n",
       "       97.43360324, 98.03579305, 98.63798285, 99.24017266, 99.84236246])"
      ]
     },
     "execution_count": 113,
     "metadata": {},
     "output_type": "execute_result"
    }
   ],
   "source": [
    "x = np.linspace(min_x, max_x, 100)\n",
    "y = a + b * x\n"
   ]
  },
  {
   "cell_type": "code",
   "execution_count": 117,
   "metadata": {},
   "outputs": [
    {
     "data": {
      "text/plain": [
       "<matplotlib.collections.PathCollection at 0x2e260e99f10>"
      ]
     },
     "execution_count": 117,
     "metadata": {},
     "output_type": "execute_result"
    },
    {
     "data": {
      "image/png": "[encoded data removed]",
      "text/plain": [
       "<Figure size 864x576 with 1 Axes>"
      ]
     },
     "metadata": {
      "needs_background": "light"
     },
     "output_type": "display_data"
    }
   ],
   "source": [
    "\n",
    "\n",
    "x = np.linspace(min_x, max_x, 100)\n",
    "\n",
    "#y = a + b * x\n",
    "plt.figure(figsize = (12, 8))\n",
    "# Ploting Line\n",
    "plt.plot(x, y,label='Regression Line')\n",
    "plt.plot([30,65],[40,100], color=\"orange\", label=\"prediction\")\n",
    "# Ploting Scatter Points\n",
    "plt.scatter(df.X, df.Y, label='Scatter Plot')\n",
    "\n"
   ]
  },
  {
   "cell_type": "code",
   "execution_count": 130,
   "metadata": {
    "deletable": false,
    "nbgrader": {
     "cell_type": "code",
     "checksum": "7f783828630939c2e095a32479fa8a95",
     "grade": false,
     "grade_id": "cell-d5e750d407949b20",
     "locked": false,
     "schema_version": 3,
     "solution": true,
     "task": false
    }
   },
   "outputs": [
    {
     "name": "stdout",
     "output_type": "stream",
     "text": [
      "1.346401588531577\n",
      "6.782363909337477\n"
     ]
    }
   ],
   "source": [
    "#implement a least squares function to find a, b\n",
    "\n",
    "\n",
    "\n",
    "\n",
    "# YOUR CODE HERE\n",
    "#raise NotImplementedError()\n",
    "print(b)\n",
    "print(a)"
   ]
  },
  {
   "cell_type": "code",
   "execution_count": 131,
   "metadata": {
    "deletable": false,
    "editable": false,
    "nbgrader": {
     "cell_type": "code",
     "checksum": "f99a446fb5ac3e0d1da4cbb9b795eacb",
     "grade": true,
     "grade_id": "cell-c7fea6e45dc92701",
     "locked": true,
     "points": 5,
     "schema_version": 3,
     "solution": false,
     "task": false
    }
   },
   "outputs": [
    {
     "ename": "AssertionError",
     "evalue": "",
     "output_type": "error",
     "traceback": [
      "\u001b[1;31m---------------------------------------------------------------------------\u001b[0m",
      "\u001b[1;31mAssertionError\u001b[0m                            Traceback (most recent call last)",
      "\u001b[1;32m<ipython-input-131-94ffca13c1d9>\u001b[0m in \u001b[0;36m<module>\u001b[1;34m\u001b[0m\n\u001b[1;32m----> 1\u001b[1;33m \u001b[1;32massert\u001b[0m \u001b[0mabs\u001b[0m\u001b[1;33m(\u001b[0m\u001b[0ma\u001b[0m \u001b[1;33m-\u001b[0m \u001b[1;36m7.72\u001b[0m\u001b[1;33m)\u001b[0m \u001b[1;33m<=\u001b[0m\u001b[1;36m0.03\u001b[0m\u001b[1;33m\u001b[0m\u001b[1;33m\u001b[0m\u001b[0m\n\u001b[0m\u001b[0;32m      2\u001b[0m \u001b[1;32massert\u001b[0m \u001b[0mabs\u001b[0m\u001b[1;33m(\u001b[0m\u001b[0mb\u001b[0m \u001b[1;33m-\u001b[0m \u001b[1;36m1.32\u001b[0m\u001b[1;33m)\u001b[0m \u001b[1;33m<=\u001b[0m\u001b[1;36m0.03\u001b[0m\u001b[1;33m\u001b[0m\u001b[1;33m\u001b[0m\u001b[0m\n",
      "\u001b[1;31mAssertionError\u001b[0m: "
     ]
    }
   ],
   "source": [
    "assert abs(a - 7.72) <=0.03\n",
    "assert abs(b - 1.32) <=0.03"
   ]
  },
  {
   "cell_type": "code",
   "execution_count": null,
   "metadata": {
    "deletable": false,
    "nbgrader": {
     "cell_type": "code",
     "checksum": "3dfec453f61e443318a83756c5d376ed",
     "grade": false,
     "grade_id": "cell-721384e1a2152077",
     "locked": false,
     "schema_version": 3,
     "solution": true,
     "task": false
    }
   },
   "outputs": [],
   "source": [
    "line = 0\n",
    "x = np.array([])\n",
    "# YOUR CODE HERE\n",
    "#raise NotImplementedError()"
   ]
  },
  {
   "cell_type": "code",
   "execution_count": 137,
   "metadata": {
    "deletable": false,
    "editable": false,
    "nbgrader": {
     "cell_type": "code",
     "checksum": "08b1f875272b06a1c8562f53f455ad9a",
     "grade": true,
     "grade_id": "cell-71f1201b79ff7e44",
     "locked": true,
     "points": 5,
     "schema_version": 3,
     "solution": false,
     "task": false
    }
   },
   "outputs": [
    {
     "ename": "AssertionError",
     "evalue": "",
     "output_type": "error",
     "traceback": [
      "\u001b[1;31m---------------------------------------------------------------------------\u001b[0m",
      "\u001b[1;31mAssertionError\u001b[0m                            Traceback (most recent call last)",
      "\u001b[1;32m<ipython-input-137-c112120a8c60>\u001b[0m in \u001b[0;36m<module>\u001b[1;34m\u001b[0m\n\u001b[1;32m----> 1\u001b[1;33m \u001b[1;32massert\u001b[0m \u001b[0mabs\u001b[0m\u001b[1;33m(\u001b[0m\u001b[0ma\u001b[0m \u001b[1;33m+\u001b[0m\u001b[1;36m3\u001b[0m\u001b[1;33m*\u001b[0m\u001b[0mb\u001b[0m \u001b[1;33m-\u001b[0m \u001b[1;36m11.69\u001b[0m\u001b[1;33m)\u001b[0m \u001b[1;33m<=\u001b[0m \u001b[1;36m0.05\u001b[0m\u001b[1;33m\u001b[0m\u001b[1;33m\u001b[0m\u001b[0m\n\u001b[0m\u001b[0;32m      2\u001b[0m \u001b[1;32massert\u001b[0m \u001b[0mabs\u001b[0m\u001b[1;33m(\u001b[0m\u001b[0ma\u001b[0m \u001b[1;33m+\u001b[0m\u001b[1;36m100\u001b[0m\u001b[1;33m*\u001b[0m\u001b[0mb\u001b[0m \u001b[1;33m-\u001b[0m \u001b[1;36m140\u001b[0m\u001b[1;33m)\u001b[0m \u001b[1;33m<=\u001b[0m \u001b[1;36m1\u001b[0m\u001b[1;33m\u001b[0m\u001b[1;33m\u001b[0m\u001b[0m\n",
      "\u001b[1;31mAssertionError\u001b[0m: "
     ]
    }
   ],
   "source": [
    "assert abs(a +3*b - 11.69) <= 0.05\n",
    "assert abs(a +100*b - 140) <= 1"
   ]
  },
  {
   "cell_type": "code",
   "execution_count": null,
   "metadata": {
    "deletable": false,
    "nbgrader": {
     "cell_type": "code",
     "checksum": "190229c08d10f48c9a807e51e6ba8eed",
     "grade": false,
     "grade_id": "cell-e8d9edf92254aa00",
     "locked": false,
     "schema_version": 3,
     "solution": true,
     "task": false
    }
   },
   "outputs": [],
   "source": [
    "# YOUR CODE HERE\n",
    "raise NotImplementedError()"
   ]
  },
  {
   "cell_type": "code",
   "execution_count": 144,
   "metadata": {
    "deletable": false,
    "nbgrader": {
     "cell_type": "code",
     "checksum": "de2e61e7563de9bf967c643b32565f9a",
     "grade": false,
     "grade_id": "cell-8b80d3f35ea3b407",
     "locked": false,
     "schema_version": 3,
     "solution": true,
     "task": false
    }
   },
   "outputs": [
    {
     "name": "stdout",
     "output_type": "stream",
     "text": [
      "(11, 2)\n",
      "(9, 2)\n"
     ]
    },
    {
     "data": {
      "image/png": "[encoded data removed]",
      "text/plain": [
       "<Figure size 432x288 with 1 Axes>"
      ]
     },
     "metadata": {
      "needs_background": "light"
     },
     "output_type": "display_data"
    }
   ],
   "source": [
    "#Classify your test data in to classes\n",
    "#if the Y value for a certain X is lower than the line then the class is 0\n",
    "class_0 = []\n",
    "class_1 = []\n",
    "for i in range(x_test.shape[0]):\n",
    "    if y_test.values[i]<(a +x_test.values[i]*b):\n",
    "        class_0.append((x_test.values[i],y_test.values[i]))\n",
    "    else:\n",
    "        class_1.append((x_test.values[i],y_test.values[i]))\n",
    "\n",
    "        \n",
    "class_0 = np.array(class_0)\n",
    "class_1 = np.array(class_1)\n",
    "print(class_0.shape)\n",
    "print(class_1.shape)\n",
    "plt.scatter(class_0[:,0],class_0[:,1])\n",
    "plt.scatter(class_1[:,0],class_1[:,1])\n",
    "plt.plot(y)\n",
    "plt.show()"
   ]
  },
  {
   "cell_type": "code",
   "execution_count": 141,
   "metadata": {
    "deletable": false,
    "editable": false,
    "nbgrader": {
     "cell_type": "code",
     "checksum": "1486f3e73b7a9925bfc840c4f84432e7",
     "grade": true,
     "grade_id": "cell-73e31e3494663d82",
     "locked": true,
     "points": 5,
     "schema_version": 3,
     "solution": false,
     "task": false
    }
   },
   "outputs": [],
   "source": [
    "assert 9 < class_0.shape[0] < 13\n",
    "assert 7 < class_1.shape[0] < 11"
   ]
  },
  {
   "cell_type": "code",
   "execution_count": null,
   "metadata": {
    "deletable": false,
    "nbgrader": {
     "cell_type": "code",
     "checksum": "e91f4d245601ab07416f3122d23f9f89",
     "grade": false,
     "grade_id": "cell-db81fd9fa3a21bdf",
     "locked": false,
     "schema_version": 3,
     "solution": true,
     "task": false
    }
   },
   "outputs": [],
   "source": [
    "# YOUR CODE HERE\n",
    "raise NotImplementedError()"
   ]
  },
  {
   "cell_type": "code",
   "execution_count": 149,
   "metadata": {
    "deletable": false,
    "nbgrader": {
     "cell_type": "code",
     "checksum": "82e87b2d597a41e300a05cd1ed82557b",
     "grade": false,
     "grade_id": "cell-ee8df562ed62329a",
     "locked": false,
     "schema_version": 3,
     "solution": true,
     "task": false
    }
   },
   "outputs": [
    {
     "name": "stdout",
     "output_type": "stream",
     "text": [
      "3067.1769697793766\n",
      "40.25166627007056\n"
     ]
    }
   ],
   "source": [
    "# get the total error for the classes\n",
    "\n",
    "err = 0\n",
    "for i in range(x_test.shape[0]):\n",
    "    err += abs(y_test.values[i]-(a +x_test.values[i]*b))**2\n",
    "# YOUR CODE HERE\n",
    "print(err)\n",
    "print(err/y_test.mean())\n",
    "#raise NotImplementedError()\n"
   ]
  },
  {
   "cell_type": "code",
   "execution_count": 146,
   "metadata": {
    "deletable": false,
    "editable": false,
    "nbgrader": {
     "cell_type": "code",
     "checksum": "feb3a49adcd3bb6769f5dc468b838fc8",
     "grade": true,
     "grade_id": "cell-bbe692ec61946f5c",
     "locked": true,
     "points": 5,
     "schema_version": 3,
     "solution": false,
     "task": false
    }
   },
   "outputs": [],
   "source": [
    "assert err - 201 < 20"
   ]
  },
  {
   "cell_type": "code",
   "execution_count": null,
   "metadata": {},
   "outputs": [],
   "source": []
  }
 ],
 "metadata": {
  "kernelspec": {
   "display_name": "Python 3",
   "language": "python",
   "name": "python3"
  },
  "language_info": {
   "codemirror_mode": {
    "name": "ipython",
    "version": 3
   },
   "file_extension": ".py",
   "mimetype": "text/x-python",
   "name": "python",
   "nbconvert_exporter": "python",
   "pygments_lexer": "ipython3",
   "version": "3.8.8"
  }
 },
 "nbformat": 4,
 "nbformat_minor": 2
}
