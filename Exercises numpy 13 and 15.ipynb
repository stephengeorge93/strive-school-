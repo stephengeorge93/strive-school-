{
 "cells": [
  {
   "cell_type": "code",
   "execution_count": 1,
   "id": "biological-worcester",
   "metadata": {},
   "outputs": [],
   "source": [
    "import numpy as np"
   ]
  },
  {
   "cell_type": "markdown",
   "id": "champion-greensboro",
   "metadata": {},
   "source": [
    "**13. Create a 10x10 array with random values and find the minimum and maximum values**"
   ]
  },
  {
   "cell_type": "code",
   "execution_count": 12,
   "id": "joint-explorer",
   "metadata": {},
   "outputs": [
    {
     "name": "stdout",
     "output_type": "stream",
     "text": [
      "the orginal array :,[[0.81550836 0.58806197 0.76279752 0.4526121  0.97163689 0.11462517\n",
      "  0.63295324 0.01401242 0.08982837 0.79956403]\n",
      " [0.56142093 0.1999771  0.94950132 0.59267962 0.53880386 0.73193975\n",
      "  0.82113902 0.55617255 0.67967087 0.84926862]\n",
      " [0.079765   0.80892941 0.8624477  0.52398468 0.60189364 0.06664588\n",
      "  0.96994476 0.33813262 0.3404142  0.84713823]\n",
      " [0.22186478 0.01166667 0.15707504 0.24993481 0.81729138 0.61937263\n",
      "  0.13484071 0.36852699 0.88936225 0.54255659]\n",
      " [0.64779132 0.07586884 0.1088191  0.99263389 0.08801733 0.84377408\n",
      "  0.55221525 0.43144053 0.79441043 0.08510771]\n",
      " [0.65946998 0.29128801 0.06827372 0.16297341 0.77370478 0.62529823\n",
      "  0.0678751  0.26504053 0.37725759 0.2428971 ]\n",
      " [0.63453416 0.10687272 0.92910327 0.64147053 0.41433048 0.51629939\n",
      "  0.83073871 0.05521036 0.44222892 0.59815659]\n",
      " [0.29252626 0.26827418 0.18319454 0.12107574 0.23299061 0.7326592\n",
      "  0.52664796 0.12760612 0.71074166 0.70111206]\n",
      " [0.69411046 0.19499821 0.81555192 0.16905648 0.08476624 0.14080525\n",
      "  0.93661094 0.64364958 0.22157866 0.87839936]\n",
      " [0.59678766 0.01244406 0.17562692 0.2213814  0.70853986 0.69587208\n",
      "  0.85380145 0.78007891 0.79976684 0.27918242]]\n",
      "the minimum value in array is 0.011666671783529647\n",
      "the maximum value in array is 0.992633885195083\n"
     ]
    }
   ],
   "source": [
    "#creating random values of 10*10\n",
    "x =np.random.random((10,10))\n",
    "print(f'the orginal array :,{x}')\n",
    "\n",
    "#print(x)\n",
    "#finding the maximum and minimum values\n",
    "xmin,xmax =x.min(),x.max()\n",
    "print(f'the minimum value in array is {xmin}')\n",
    "print(f'the maximum value in array is {xmax}')\n",
    "     \n",
    "\n"
   ]
  },
  {
   "cell_type": "markdown",
   "id": "exempt-organ",
   "metadata": {},
   "source": [
    "**15. Create a 2d array with 1 on the border and 0 inside**"
   ]
  },
  {
   "cell_type": "code",
   "execution_count": 41,
   "id": "sufficient-facility",
   "metadata": {},
   "outputs": [],
   "source": [
    "#creating an array\n",
    "y= np.ones((5,5))\n",
    "#print(x)"
   ]
  },
  {
   "cell_type": "code",
   "execution_count": 45,
   "id": "separated-literacy",
   "metadata": {},
   "outputs": [],
   "source": [
    "#creating 2D array\n",
    "\n",
    "y[1:-1,1:-1] = 0"
   ]
  },
  {
   "cell_type": "code",
   "execution_count": 46,
   "id": "optional-longer",
   "metadata": {},
   "outputs": [
    {
     "data": {
      "text/plain": [
       "array([[1., 1., 1., 1., 1.],\n",
       "       [1., 0., 0., 0., 1.],\n",
       "       [1., 0., 0., 0., 1.],\n",
       "       [1., 0., 0., 0., 1.],\n",
       "       [1., 1., 1., 1., 1.]])"
      ]
     },
     "execution_count": 46,
     "metadata": {},
     "output_type": "execute_result"
    }
   ],
   "source": [
    "y"
   ]
  },
  {
   "cell_type": "code",
   "execution_count": null,
   "id": "funky-static",
   "metadata": {},
   "outputs": [],
   "source": []
  }
 ],
 "metadata": {
  "kernelspec": {
   "display_name": "Python 3",
   "language": "python",
   "name": "python3"
  },
  "language_info": {
   "codemirror_mode": {
    "name": "ipython",
    "version": 3
   },
   "file_extension": ".py",
   "mimetype": "text/x-python",
   "name": "python",
   "nbconvert_exporter": "python",
   "pygments_lexer": "ipython3",
   "version": "3.8.8"
  }
 },
 "nbformat": 4,
 "nbformat_minor": 5
}
