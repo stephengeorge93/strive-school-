{
 "cells": [
  {
   "cell_type": "markdown",
   "metadata": {
    "cell_id": "00000-23d8fdb7-14ba-4c03-bb09-45e2831de8f3",
    "deepnote_cell_type": "markdown"
   },
   "source": [
    "Here you have a collection of guided exercises for the first class on Python. <br>\n",
    "The exercises are divided by topic, following the topics reviewed during the theory session, and for each topic you have some mandatory exercises, and other optional exercises, which you are invited to do if you still have time after the mandatory exercises. <br>\n",
    "\n",
    "Remember that you have 5 hours to solve these exercises, after which we will review the most interesting exercises together. If you don't finish all the exercises, you can work on them tonightor tomorrow. \n",
    "\n",
    "At the end of the class, we will upload the code with the solutions of the exercises so that you can review them again if needed. If you still have not finished some exercises, try to do them first by yourself, before taking a look at the solutions: you are doing these exercises for yourself, so it is always the best to do them your way first, as it is the fastest way to learn!"
   ]
  },
  {
   "cell_type": "markdown",
   "metadata": {
    "cell_id": "00001-503f9903-cf45-4411-9d9d-d53a28337f31",
    "deepnote_cell_type": "markdown"
   },
   "source": [
    "**Exercise 1.3 (🌶️):** You look at the clock and see that it is currently 14.00h. You set an alarm to go off 535 hours later. At what time will the alarm go off? Write a program that prints the answer. Hint: for the best solution, you will need the modulo operator. Second hint: The answer is 21.00h, but of course, this exercise is not about the answer, but about how you get it."
   ]
  },
  {
   "cell_type": "code",
   "execution_count": null,
   "metadata": {
    "cell_id": "00002-84575a11-adc1-4b27-8dca-360629924514",
    "deepnote_cell_type": "code",
    "deepnote_to_be_reexecuted": false,
    "execution_millis": 27,
    "execution_start": 1615992367230,
    "source_hash": "6cd8f1b2",
    "tags": []
   },
   "outputs": [
    {
     "name": "stdout",
     "output_type": "stream",
     "text": [
      "21.0\n"
     ]
    }
   ],
   "source": [
    "current_time = 14.00\n",
    "extra_hour =535 %24\n",
    "alaram_go_off = current_time + extra_hour\n",
    "print(alaram_go_off)\n"
   ]
  },
  {
   "cell_type": "markdown",
   "metadata": {
    "cell_id": "00003-25c84ecd-dbe9-4f1a-84de-357a9b6ab773",
    "deepnote_cell_type": "markdown"
   },
   "source": [
    "**Exercise 5.4 (🌶️):** \"99 bottles of beer\" is a traditional song in the United States and Canada. It is popular to sing on long trips, as it has a very repetitive format which is easy to memorize, and can take a long time to sing. The song's simple lyrics are as follows: \"99 bottles of beer on the wall, 99 bottles of beer. Take one down, pass it around, 98 bottles of beer on the wall.\" The same verse is repeated, each time with one fewer bottle. The song is completed when the singer or singers reach zero. Write a function that generates and prints all the verses of the song (though you might start a bit lower, for instance with 10 bottles). Make sure that your loop is not endless, and that you use the proper inflection for the word \"bottle\"."
   ]
  },
  {
   "cell_type": "code",
   "execution_count": null,
   "metadata": {
    "cell_id": "00004-e02ced88-10bc-4e65-9117-d595fe60750b",
    "deepnote_cell_type": "code",
    "deepnote_to_be_reexecuted": false,
    "execution_millis": 62,
    "execution_start": 1615995844931,
    "source_hash": "60a09e36"
   },
   "outputs": [
    {
     "name": "stdout",
     "output_type": "stream",
     "text": [
      "99 bottle of beer on the wall. 99 bottle of beer Take, one down.Pass it around 98 bottles of beer in the wall\n",
      "\n",
      "98 bottle of beer on the wall. 98 bottle of beer Take, one down.Pass it around 97 bottles of beer in the wall\n",
      "\n",
      "97 bottle of beer on the wall. 97 bottle of beer Take, one down.Pass it around 96 bottles of beer in the wall\n",
      "\n",
      "96 bottle of beer on the wall. 96 bottle of beer Take, one down.Pass it around 95 bottles of beer in the wall\n",
      "\n",
      "95 bottle of beer on the wall. 95 bottle of beer Take, one down.Pass it around 94 bottles of beer in the wall\n",
      "\n",
      "94 bottle of beer on the wall. 94 bottle of beer Take, one down.Pass it around 93 bottles of beer in the wall\n",
      "\n",
      "93 bottle of beer on the wall. 93 bottle of beer Take, one down.Pass it around 92 bottles of beer in the wall\n",
      "\n",
      "92 bottle of beer on the wall. 92 bottle of beer Take, one down.Pass it around 91 bottles of beer in the wall\n",
      "\n",
      "91 bottle of beer on the wall. 91 bottle of beer Take, one down.Pass it around 90 bottles of beer in the wall\n",
      "\n",
      "90 bottle of beer on the wall. 90 bottle of beer Take, one down.Pass it around 89 bottles of beer in the wall\n",
      "\n",
      "89 bottle of beer on the wall. 89 bottle of beer Take, one down.Pass it around 88 bottles of beer in the wall\n",
      "\n",
      "88 bottle of beer on the wall. 88 bottle of beer Take, one down.Pass it around 87 bottles of beer in the wall\n",
      "\n",
      "87 bottle of beer on the wall. 87 bottle of beer Take, one down.Pass it around 86 bottles of beer in the wall\n",
      "\n",
      "86 bottle of beer on the wall. 86 bottle of beer Take, one down.Pass it around 85 bottles of beer in the wall\n",
      "\n",
      "85 bottle of beer on the wall. 85 bottle of beer Take, one down.Pass it around 84 bottles of beer in the wall\n",
      "\n",
      "84 bottle of beer on the wall. 84 bottle of beer Take, one down.Pass it around 83 bottles of beer in the wall\n",
      "\n",
      "83 bottle of beer on the wall. 83 bottle of beer Take, one down.Pass it around 82 bottles of beer in the wall\n",
      "\n",
      "82 bottle of beer on the wall. 82 bottle of beer Take, one down.Pass it around 81 bottles of beer in the wall\n",
      "\n",
      "81 bottle of beer on the wall. 81 bottle of beer Take, one down.Pass it around 80 bottles of beer in the wall\n",
      "\n",
      "80 bottle of beer on the wall. 80 bottle of beer Take, one down.Pass it around 79 bottles of beer in the wall\n",
      "\n",
      "79 bottle of beer on the wall. 79 bottle of beer Take, one down.Pass it around 78 bottles of beer in the wall\n",
      "\n",
      "78 bottle of beer on the wall. 78 bottle of beer Take, one down.Pass it around 77 bottles of beer in the wall\n",
      "\n",
      "77 bottle of beer on the wall. 77 bottle of beer Take, one down.Pass it around 76 bottles of beer in the wall\n",
      "\n",
      "76 bottle of beer on the wall. 76 bottle of beer Take, one down.Pass it around 75 bottles of beer in the wall\n",
      "\n",
      "75 bottle of beer on the wall. 75 bottle of beer Take, one down.Pass it around 74 bottles of beer in the wall\n",
      "\n",
      "74 bottle of beer on the wall. 74 bottle of beer Take, one down.Pass it around 73 bottles of beer in the wall\n",
      "\n",
      "73 bottle of beer on the wall. 73 bottle of beer Take, one down.Pass it around 72 bottles of beer in the wall\n",
      "\n",
      "72 bottle of beer on the wall. 72 bottle of beer Take, one down.Pass it around 71 bottles of beer in the wall\n",
      "\n",
      "71 bottle of beer on the wall. 71 bottle of beer Take, one down.Pass it around 70 bottles of beer in the wall\n",
      "\n",
      "70 bottle of beer on the wall. 70 bottle of beer Take, one down.Pass it around 69 bottles of beer in the wall\n",
      "\n",
      "69 bottle of beer on the wall. 69 bottle of beer Take, one down.Pass it around 68 bottles of beer in the wall\n",
      "\n",
      "68 bottle of beer on the wall. 68 bottle of beer Take, one down.Pass it around 67 bottles of beer in the wall\n",
      "\n",
      "67 bottle of beer on the wall. 67 bottle of beer Take, one down.Pass it around 66 bottles of beer in the wall\n",
      "\n",
      "66 bottle of beer on the wall. 66 bottle of beer Take, one down.Pass it around 65 bottles of beer in the wall\n",
      "\n",
      "65 bottle of beer on the wall. 65 bottle of beer Take, one down.Pass it around 64 bottles of beer in the wall\n",
      "\n",
      "64 bottle of beer on the wall. 64 bottle of beer Take, one down.Pass it around 63 bottles of beer in the wall\n",
      "\n",
      "63 bottle of beer on the wall. 63 bottle of beer Take, one down.Pass it around 62 bottles of beer in the wall\n",
      "\n",
      "62 bottle of beer on the wall. 62 bottle of beer Take, one down.Pass it around 61 bottles of beer in the wall\n",
      "\n",
      "61 bottle of beer on the wall. 61 bottle of beer Take, one down.Pass it around 60 bottles of beer in the wall\n",
      "\n",
      "60 bottle of beer on the wall. 60 bottle of beer Take, one down.Pass it around 59 bottles of beer in the wall\n",
      "\n",
      "59 bottle of beer on the wall. 59 bottle of beer Take, one down.Pass it around 58 bottles of beer in the wall\n",
      "\n",
      "58 bottle of beer on the wall. 58 bottle of beer Take, one down.Pass it around 57 bottles of beer in the wall\n",
      "\n",
      "57 bottle of beer on the wall. 57 bottle of beer Take, one down.Pass it around 56 bottles of beer in the wall\n",
      "\n",
      "56 bottle of beer on the wall. 56 bottle of beer Take, one down.Pass it around 55 bottles of beer in the wall\n",
      "\n",
      "55 bottle of beer on the wall. 55 bottle of beer Take, one down.Pass it around 54 bottles of beer in the wall\n",
      "\n",
      "54 bottle of beer on the wall. 54 bottle of beer Take, one down.Pass it around 53 bottles of beer in the wall\n",
      "\n",
      "53 bottle of beer on the wall. 53 bottle of beer Take, one down.Pass it around 52 bottles of beer in the wall\n",
      "\n",
      "52 bottle of beer on the wall. 52 bottle of beer Take, one down.Pass it around 51 bottles of beer in the wall\n",
      "\n",
      "51 bottle of beer on the wall. 51 bottle of beer Take, one down.Pass it around 50 bottles of beer in the wall\n",
      "\n",
      "50 bottle of beer on the wall. 50 bottle of beer Take, one down.Pass it around 49 bottles of beer in the wall\n",
      "\n",
      "49 bottle of beer on the wall. 49 bottle of beer Take, one down.Pass it around 48 bottles of beer in the wall\n",
      "\n",
      "48 bottle of beer on the wall. 48 bottle of beer Take, one down.Pass it around 47 bottles of beer in the wall\n",
      "\n",
      "47 bottle of beer on the wall. 47 bottle of beer Take, one down.Pass it around 46 bottles of beer in the wall\n",
      "\n",
      "46 bottle of beer on the wall. 46 bottle of beer Take, one down.Pass it around 45 bottles of beer in the wall\n",
      "\n",
      "45 bottle of beer on the wall. 45 bottle of beer Take, one down.Pass it around 44 bottles of beer in the wall\n",
      "\n",
      "44 bottle of beer on the wall. 44 bottle of beer Take, one down.Pass it around 43 bottles of beer in the wall\n",
      "\n",
      "43 bottle of beer on the wall. 43 bottle of beer Take, one down.Pass it around 42 bottles of beer in the wall\n",
      "\n",
      "42 bottle of beer on the wall. 42 bottle of beer Take, one down.Pass it around 41 bottles of beer in the wall\n",
      "\n",
      "41 bottle of beer on the wall. 41 bottle of beer Take, one down.Pass it around 40 bottles of beer in the wall\n",
      "\n",
      "40 bottle of beer on the wall. 40 bottle of beer Take, one down.Pass it around 39 bottles of beer in the wall\n",
      "\n",
      "39 bottle of beer on the wall. 39 bottle of beer Take, one down.Pass it around 38 bottles of beer in the wall\n",
      "\n",
      "38 bottle of beer on the wall. 38 bottle of beer Take, one down.Pass it around 37 bottles of beer in the wall\n",
      "\n",
      "37 bottle of beer on the wall. 37 bottle of beer Take, one down.Pass it around 36 bottles of beer in the wall\n",
      "\n",
      "36 bottle of beer on the wall. 36 bottle of beer Take, one down.Pass it around 35 bottles of beer in the wall\n",
      "\n",
      "35 bottle of beer on the wall. 35 bottle of beer Take, one down.Pass it around 34 bottles of beer in the wall\n",
      "\n",
      "34 bottle of beer on the wall. 34 bottle of beer Take, one down.Pass it around 33 bottles of beer in the wall\n",
      "\n",
      "33 bottle of beer on the wall. 33 bottle of beer Take, one down.Pass it around 32 bottles of beer in the wall\n",
      "\n",
      "32 bottle of beer on the wall. 32 bottle of beer Take, one down.Pass it around 31 bottles of beer in the wall\n",
      "\n",
      "31 bottle of beer on the wall. 31 bottle of beer Take, one down.Pass it around 30 bottles of beer in the wall\n",
      "\n",
      "30 bottle of beer on the wall. 30 bottle of beer Take, one down.Pass it around 29 bottles of beer in the wall\n",
      "\n",
      "29 bottle of beer on the wall. 29 bottle of beer Take, one down.Pass it around 28 bottles of beer in the wall\n",
      "\n",
      "28 bottle of beer on the wall. 28 bottle of beer Take, one down.Pass it around 27 bottles of beer in the wall\n",
      "\n",
      "27 bottle of beer on the wall. 27 bottle of beer Take, one down.Pass it around 26 bottles of beer in the wall\n",
      "\n",
      "26 bottle of beer on the wall. 26 bottle of beer Take, one down.Pass it around 25 bottles of beer in the wall\n",
      "\n",
      "25 bottle of beer on the wall. 25 bottle of beer Take, one down.Pass it around 24 bottles of beer in the wall\n",
      "\n",
      "24 bottle of beer on the wall. 24 bottle of beer Take, one down.Pass it around 23 bottles of beer in the wall\n",
      "\n",
      "23 bottle of beer on the wall. 23 bottle of beer Take, one down.Pass it around 22 bottles of beer in the wall\n",
      "\n",
      "22 bottle of beer on the wall. 22 bottle of beer Take, one down.Pass it around 21 bottles of beer in the wall\n",
      "\n",
      "21 bottle of beer on the wall. 21 bottle of beer Take, one down.Pass it around 20 bottles of beer in the wall\n",
      "\n",
      "20 bottle of beer on the wall. 20 bottle of beer Take, one down.Pass it around 19 bottles of beer in the wall\n",
      "\n",
      "19 bottle of beer on the wall. 19 bottle of beer Take, one down.Pass it around 18 bottles of beer in the wall\n",
      "\n",
      "18 bottle of beer on the wall. 18 bottle of beer Take, one down.Pass it around 17 bottles of beer in the wall\n",
      "\n",
      "17 bottle of beer on the wall. 17 bottle of beer Take, one down.Pass it around 16 bottles of beer in the wall\n",
      "\n",
      "16 bottle of beer on the wall. 16 bottle of beer Take, one down.Pass it around 15 bottles of beer in the wall\n",
      "\n",
      "15 bottle of beer on the wall. 15 bottle of beer Take, one down.Pass it around 14 bottles of beer in the wall\n",
      "\n",
      "14 bottle of beer on the wall. 14 bottle of beer Take, one down.Pass it around 13 bottles of beer in the wall\n",
      "\n",
      "13 bottle of beer on the wall. 13 bottle of beer Take, one down.Pass it around 12 bottles of beer in the wall\n",
      "\n",
      "12 bottle of beer on the wall. 12 bottle of beer Take, one down.Pass it around 11 bottles of beer in the wall\n",
      "\n",
      "11 bottle of beer on the wall. 11 bottle of beer Take, one down.Pass it around 10 bottles of beer in the wall\n",
      "\n",
      "10 bottle of beer on the wall. 10 bottle of beer Take, one down.Pass it around 9 bottles of beer in the wall\n",
      "\n",
      "9 bottle of beer on the wall. 9 bottle of beer Take, one down.Pass it around 8 bottles of beer in the wall\n",
      "\n",
      "8 bottle of beer on the wall. 8 bottle of beer Take, one down.Pass it around 7 bottles of beer in the wall\n",
      "\n",
      "7 bottle of beer on the wall. 7 bottle of beer Take, one down.Pass it around 6 bottles of beer in the wall\n",
      "\n",
      "6 bottle of beer on the wall. 6 bottle of beer Take, one down.Pass it around 5 bottles of beer in the wall\n",
      "\n",
      "5 bottle of beer on the wall. 5 bottle of beer Take, one down.Pass it around 4 bottles of beer in the wall\n",
      "\n",
      "4 bottle of beer on the wall. 4 bottle of beer Take, one down.Pass it around 3 bottles of beer in the wall\n",
      "\n",
      "3 bottle of beer on the wall. 3 bottle of beer Take, one down.Pass it around 2 bottles of beer in the wall\n",
      "\n",
      "2 bottle of beer on the wall. 2 bottle of beer Take, one down.Pass it around 1 bottles of beer in the wall\n",
      "\n",
      "1 bottle of beer on the wall. 1 bottle of beer Take, one down.Pass it around 0 bottles of beer in the wall\n",
      "\n"
     ]
    }
   ],
   "source": [
    "#Your Code Here\n",
    "\n",
    "\n",
    "    \n",
    "    \n",
    "ord=\"bottles\"\n",
    "\n",
    "for beer_num in range(99,0,-1):\n",
    "    print(beer_num,word,\"of beer on the wall.\",beer_num,word,\"of beer Take, one down.Pass it around\",beer_num -1,\"bottles of beer in the wall\")\n",
    "  \n",
    "\n",
    "    if beer_num==1:\n",
    "   \n",
    "            word=\"bottle\"\n",
    "         \n",
    "    print()\n",
    "\n",
    "    \n",
    "\n",
    "\n",
    "\n",
    "    \"\"\"\n",
    "    5 bottles of beer on the wall, 5 bottles of beer. Take one down, pass it around, 4 bottles of beer in the wall\n",
    "    4 bottles of beer on the wall, 4 bottles of beer. Take one down, pass it around, 3 bottles of beer in the wall\n",
    "    3 bottles of beer on the wall, 3 bottles of beer. Take one down, pass it around, 2 bottles of beer in the wall\n",
    "    2 bottles of beer on the wall, 2 bottles of beer. Take one down, pass it around, 1 bottle of beer in the wall\n",
    "    1 bottle of beer on the wall, 1 bottle of beer. Take one down, pass it around, 0 bottles of beer in the wall\n",
    "    \"\"\"\n",
    "\n",
    "\n",
    "\n",
    "\n"
   ]
  },
  {
   "cell_type": "markdown",
   "metadata": {
    "cell_id": "00005-a205cedb-50e5-47c3-be76-25ef9323df59",
    "deepnote_cell_type": "markdown"
   },
   "source": [
    "**Exercise 5.5 (🌶️):** The Fibonacci sequence is a sequence of numbers that starts with 1, followed by 1 again. Every next number is the sum of the two previous numbers. I.e., the sequence starts with 1, 1, 2, 3, 5, 8, 13, 21,... Write a function that calculates and prints the Fibonacci sequence until the numbers get higher than a `maximum`."
   ]
  },
  {
   "cell_type": "code",
   "execution_count": null,
   "metadata": {
    "cell_id": "00006-32bc4ced-9209-4be7-9360-c200d7260e7f",
    "deepnote_cell_type": "code",
    "deepnote_to_be_reexecuted": false,
    "execution_millis": 13,
    "execution_start": 1615994759692,
    "source_hash": "27eef658"
   },
   "outputs": [
    {
     "name": "stdout",
     "output_type": "stream",
     "text": [
      "0\n",
      "1\n",
      "1\n",
      "2\n",
      "3\n",
      "5\n",
      "8\n",
      "13\n",
      "21\n"
     ]
    }
   ],
   "source": [
    "#Your Code Here\n",
    "def fibonacci(x):\n",
    "\n",
    "\n",
    "    \"\"\"\n",
    "    Fibonacci sequence up to 22 :\n",
    "    0 , 1 , 1 , 2 , 3 , 5 , 8 , 13 , 21\n",
    "    \"\"\"\n",
    "nterms =9\n",
    "n1,n2 = 0,1\n",
    "count = 0\n",
    "while count < nterms:\n",
    "       print(n1)\n",
    "       nth = n1 + n2\n",
    "       \n",
    "       n1 = n2\n",
    "       n2 = nth\n",
    "       count += 1\n",
    "    \n",
    "\n"
   ]
  },
  {
   "cell_type": "markdown",
   "metadata": {
    "cell_id": "00007-b5e4ba84-46d2-43bb-86c0-a771fe9d1845",
    "deepnote_cell_type": "markdown"
   },
   "source": [
    "**Exercise 5.8 (🌶️):** A, B, C, and D are all different digits. The number DCBA is equal to 4 times the number ABCD. What are the digits? Note: to make ABCD and DCBA conventional numbers, neither A nor D can be zero. Use a quadruple-nested loop."
   ]
  },
  {
   "cell_type": "code",
   "execution_count": 1,
   "metadata": {
    "cell_id": "00008-29f6ad98-d8b8-4f77-8ec7-5bf6b24bdd05",
    "deepnote_cell_type": "code",
    "deepnote_to_be_reexecuted": false,
    "execution_millis": 4,
    "execution_start": 1615999859063,
    "source_hash": "4f24c1ee"
   },
   "outputs": [
    {
     "name": "stdout",
     "output_type": "stream",
     "text": [
      "2 1 7 8\n",
      "1 7 8 2\n"
     ]
    }
   ],
   "source": [
    "#Your Code Here\n",
    "# Solve 4*ABCD == DCBA\n",
    "for a in range(1,9):\n",
    "    for b in range(0,9):\n",
    "        for c in range(0,9):\n",
    "            for d in range(1,9):\n",
    "                if 4* (1000 * a + 100 * b + 10 * c + d) == \\\n",
    "                  (a + 10 * b + 100 * c + 1000 * d):\n",
    "                    print  (a, b, c, d)\n",
    "                    print  (b,c,d,a)\n",
    "\n",
    "    \n",
    "\n",
    "\n",
    "    "
   ]
  },
  {
   "cell_type": "markdown",
   "metadata": {
    "created_in_deepnote_cell": true,
    "deepnote_cell_type": "markdown",
    "tags": []
   },
   "source": [
    "<a style='text-decoration:none;line-height:16px;display:flex;color:#5B5B62;padding:10px;justify-content:end;' href='https://deepnote.com?utm_source=created-in-deepnote-cell&projectId=2fb4c129-1cd9-4dc3-9eb2-b03e412cefb0' target=\"_blank\">\n",
    "<img style='display:inline;max-height:16px;margin:0px;margin-right:7.5px;' src='data:image/svg+xml;base64,PD94bWwgdmVyc2lvbj0iMS4wIiBlbmNvZGluZz0iVVRGLTgiPz4KPHN2ZyB3aWR0aD0iODBweCIgaGVpZ2h0PSI4MHB4IiB2aWV3Qm94PSIwIDAgODAgODAiIHZlcnNpb249IjEuMSIgeG1sbnM9Imh0dHA6Ly93d3cudzMub3JnLzIwMDAvc3ZnIiB4bWxuczp4bGluaz0iaHR0cDovL3d3dy53My5vcmcvMTk5OS94bGluayI+CiAgICA8IS0tIEdlbmVyYXRvcjogU2tldGNoIDU0LjEgKDc2NDkwKSAtIGh0dHBzOi8vc2tldGNoYXBwLmNvbSAtLT4KICAgIDx0aXRsZT5Hcm91cCAzPC90aXRsZT4KICAgIDxkZXNjPkNyZWF0ZWQgd2l0aCBTa2V0Y2guPC9kZXNjPgogICAgPGcgaWQ9IkxhbmRpbmciIHN0cm9rZT0ibm9uZSIgc3Ryb2tlLXdpZHRoPSIxIiBmaWxsPSJub25lIiBmaWxsLXJ1bGU9ImV2ZW5vZGQiPgogICAgICAgIDxnIGlkPSJBcnRib2FyZCIgdHJhbnNmb3JtPSJ0cmFuc2xhdGUoLTEyMzUuMDAwMDAwLCAtNzkuMDAwMDAwKSI+CiAgICAgICAgICAgIDxnIGlkPSJHcm91cC0zIiB0cmFuc2Zvcm09InRyYW5zbGF0ZSgxMjM1LjAwMDAwMCwgNzkuMDAwMDAwKSI+CiAgICAgICAgICAgICAgICA8cG9seWdvbiBpZD0iUGF0aC0yMCIgZmlsbD0iIzAyNjVCNCIgcG9pbnRzPSIyLjM3NjIzNzYyIDgwIDM4LjA0NzY2NjcgODAgNTcuODIxNzgyMiA3My44MDU3NTkyIDU3LjgyMTc4MjIgMzIuNzU5MjczOSAzOS4xNDAyMjc4IDMxLjY4MzE2ODMiPjwvcG9seWdvbj4KICAgICAgICAgICAgICAgIDxwYXRoIGQ9Ik0zNS4wMDc3MTgsODAgQzQyLjkwNjIwMDcsNzYuNDU0OTM1OCA0Ny41NjQ5MTY3LDcxLjU0MjI2NzEgNDguOTgzODY2LDY1LjI2MTk5MzkgQzUxLjExMjI4OTksNTUuODQxNTg0MiA0MS42NzcxNzk1LDQ5LjIxMjIyODQgMjUuNjIzOTg0Niw0OS4yMTIyMjg0IEMyNS40ODQ5Mjg5LDQ5LjEyNjg0NDggMjkuODI2MTI5Niw0My4yODM4MjQ4IDM4LjY0NzU4NjksMzEuNjgzMTY4MyBMNzIuODcxMjg3MSwzMi41NTQ0MjUgTDY1LjI4MDk3Myw2Ny42NzYzNDIxIEw1MS4xMTIyODk5LDc3LjM3NjE0NCBMMzUuMDA3NzE4LDgwIFoiIGlkPSJQYXRoLTIyIiBmaWxsPSIjMDAyODY4Ij48L3BhdGg+CiAgICAgICAgICAgICAgICA8cGF0aCBkPSJNMCwzNy43MzA0NDA1IEwyNy4xMTQ1MzcsMC4yNTcxMTE0MzYgQzYyLjM3MTUxMjMsLTEuOTkwNzE3MDEgODAsMTAuNTAwMzkyNyA4MCwzNy43MzA0NDA1IEM4MCw2NC45NjA0ODgyIDY0Ljc3NjUwMzgsNzkuMDUwMzQxNCAzNC4zMjk1MTEzLDgwIEM0Ny4wNTUzNDg5LDc3LjU2NzA4MDggNTMuNDE4MjY3Nyw3MC4zMTM2MTAzIDUzLjQxODI2NzcsNTguMjM5NTg4NSBDNTMuNDE4MjY3Nyw0MC4xMjg1NTU3IDM2LjMwMzk1NDQsMzcuNzMwNDQwNSAyNS4yMjc0MTcsMzcuNzMwNDQwNSBDMTcuODQzMDU4NiwzNy43MzA0NDA1IDkuNDMzOTE5NjYsMzcuNzMwNDQwNSAwLDM3LjczMDQ0MDUgWiIgaWQ9IlBhdGgtMTkiIGZpbGw9IiMzNzkzRUYiPjwvcGF0aD4KICAgICAgICAgICAgPC9nPgogICAgICAgIDwvZz4KICAgIDwvZz4KPC9zdmc+' > </img>\n",
    "Created in <span style='font-weight:600;margin-left:4px;'>Deepnote</span></a>"
   ]
  }
 ],
 "metadata": {
  "deepnote": {},
  "deepnote_execution_queue": [],
  "deepnote_notebook_id": "8cbd6ad2-85cf-4c0f-a611-9b9c49d74074",
  "kernelspec": {
   "display_name": "Python 3",
   "language": "python",
   "name": "python3"
  },
  "language_info": {
   "codemirror_mode": {
    "name": "ipython",
    "version": 3
   },
   "file_extension": ".py",
   "mimetype": "text/x-python",
   "name": "python",
   "nbconvert_exporter": "python",
   "pygments_lexer": "ipython3",
   "version": "3.7.9"
  }
 },
 "nbformat": 4,
 "nbformat_minor": 4
}
