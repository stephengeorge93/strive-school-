{
 "cells": [
  {
   "cell_type": "markdown",
   "id": "accompanied-exchange",
   "metadata": {},
   "source": [
    "Exercises 6\n",
    "\n",
    "\n",
    "Exercise 6.1: The text string in the next cell contains several words which are enclosed by square brackets ([ and ]). Scan the string and print out all words which are between square brackets. For example, if the text string would be \"[a]n example[ string]\", you are expected to print out \"a string\"."
   ]
  },
  {
   "cell_type": "code",
   "execution_count": 1,
   "id": "bearing-mainstream",
   "metadata": {},
   "outputs": [
    {
     "name": "stdout",
     "output_type": "stream",
     "text": [
      " Never  gonna  give  you  up \n",
      " replacing  bracket  with  string \n",
      " i  can  do  it \n"
     ]
    }
   ],
   "source": [
    "list2 = (\"[Never][gonna][give][you][up]\\n[replacing][bracket][with][string]\\n[i][can][do][it]\")\n",
    "\n",
    "list2 = (list2.replace(\"[\",\" \"))\n",
    "list2 = (list2.replace(\"]\",\" \"))\n",
    "print(list2)\n",
    "      "
   ]
  },
  {
   "cell_type": "markdown",
   "id": "diverse-valley",
   "metadata": {},
   "source": [
    "Exercise 6.2: Print a line of all the capital letters \"A\" to \"Z\". Below it, print a line of the letters that are 13 positions in the alphabet away from the letters that are above them. E.g., below the \"A\" you print an \"N\", below the \"B\" you print an \"O\", etcetera. You have to consider the alphabet to be circular, i.e., after the \"Z\", it loops back to the \"A\" again.\n"
   ]
  },
  {
   "cell_type": "code",
   "execution_count": 2,
   "id": "concerned-career",
   "metadata": {},
   "outputs": [
    {
     "name": "stdout",
     "output_type": "stream",
     "text": [
      "ABCDEFGHIJKLMNOPQRSTUVWXYZ\n",
      "NOPQRSTUVWXYZABCDEFGHIJKLM\n"
     ]
    }
   ],
   "source": [
    "alphabet=\"ABCDEFGHIJKLMNOPQRSTUVWXYZ\"\n",
    "print(alphabet[0:])\n",
    "\n",
    "print(alphabet[13:]+alphabet[0:13])"
   ]
  },
  {
   "cell_type": "markdown",
   "id": "political-melissa",
   "metadata": {},
   "source": [
    "Exercise 6.3: In the text below, count how often the word \"wood\" occurs (using program code, of course). Capitals and lower case letters may both be used, and you have to consider that the word \"wood\" should be a separate word, and not part of another word. Hint: If you did the exercises from this chapter, you already developed a function that \"cleans\" a text. Combining that function with the split() function more or less solves the problem for you"
   ]
  },
  {
   "cell_type": "code",
   "execution_count": 9,
   "id": "supreme-birth",
   "metadata": {},
   "outputs": [
    {
     "data": {
      "text/plain": [
       "'the word wood repeated 3 times '"
      ]
     },
     "execution_count": 9,
     "metadata": {},
     "output_type": "execute_result"
    }
   ],
   "source": [
    "text = \"\"\"How much wood would a woodchuck chuck\n",
    "If a woodchuck could chuck wood?\n",
    "He would chuck, he would, as much as he could,\n",
    "And chuck as much as a woodchuck would\n",
    "If a Mr. Smith could chuck wood\\n\\r\\t.\"\"\"\n",
    "\n",
    "# Counting wood.\n",
    "def wood_counter(text):\n",
    "    \n",
    "    text = text.replace(\"?\", \"\").replace(\".\",\"\").replace(\"\\n\\r\\t\",\"\")\n",
    "    l = text.lower().split()\n",
    "    counter = 0\n",
    "    for word in l:\n",
    "        if word == \"wood\":\n",
    "            counter +=1\n",
    "    return(f\"the word wood repeated {counter} times\")\n",
    "   \n",
    "wood_counter(text)\n"
   ]
  },
  {
   "cell_type": "code",
   "execution_count": null,
   "id": "quality-indication",
   "metadata": {},
   "outputs": [],
   "source": []
  }
 ],
 "metadata": {
  "kernelspec": {
   "display_name": "Python 3",
   "language": "python",
   "name": "python3"
  },
  "language_info": {
   "codemirror_mode": {
    "name": "ipython",
    "version": 3
   },
   "file_extension": ".py",
   "mimetype": "text/x-python",
   "name": "python",
   "nbconvert_exporter": "python",
   "pygments_lexer": "ipython3",
   "version": "3.7.9"
  }
 },
 "nbformat": 4,
 "nbformat_minor": 5
}
